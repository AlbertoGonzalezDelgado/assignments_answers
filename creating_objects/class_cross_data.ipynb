{
 "cells": [
  {
   "cell_type": "code",
   "execution_count": 55,
   "metadata": {},
   "outputs": [
    {
     "data": {
      "text/plain": [
       ":load_data"
      ]
     },
     "execution_count": 55,
     "metadata": {},
     "output_type": "execute_result"
    }
   ],
   "source": [
    "require 'csv'\n",
    "\n",
    "class Cross_data\n",
    "    attr_accessor :parent1\n",
    "    attr_accessor :parent2\n",
    "    attr_accessor :f2_Wild\n",
    "    attr_accessor :f2_P1\n",
    "    attr_accessor :f2_P2\n",
    "    attr_accessor :f2_P1P2\n",
    "\n",
    "  def initialize(parent1:,parent2:,f2_Wild:,f2_P1:,f2_P2:,f2_P1P2:)\n",
    "    @parent1 = parent1\n",
    "    @parent2 = parent2\n",
    "    @f2_Wild = f2_Wild\n",
    "    @f2_P1 = f2_P1\n",
    "    @f2_P2 = f2_P2\n",
    "    @f2_P1P2 = f2_P1P2\n",
    "  end\n",
    "\n",
    "  def Cross_data.load_data(filepath:)\n",
    "    data_cross = CSV.open(filepath, col_sep: \"\\t\", headers:true).read\n",
    "    cross_object_list = Array.new\n",
    "    \n",
    "    data_cross.each do |row|\n",
    "      cross_object = Cross_data.new(  \\\n",
    "          parent1: row[0],    \\\n",
    "          parent2: row[1],    \\\n",
    "          f2_Wild: row[2],    \\\n",
    "          f2_P1: row[3],      \\\n",
    "          f2_P2: row[4],      \\\n",
    "          f2_P1P2: row[5])\n",
    "      cross_object_list << cross_object\n",
    "    end\n",
    "    return cross_object_list\n",
    "  end\n",
    "\n",
    "end"
   ]
  },
  {
   "cell_type": "code",
   "execution_count": 56,
   "metadata": {},
   "outputs": [
    {
     "name": "stdout",
     "output_type": "stream",
     "text": [
      "[#<#<Class:0x000055fcd5eb5c30>::Cross_data:0x000055fcd6ddb908 @parent1=\"A334\", @parent2=\"A348\", @f2_Wild=\"110\", @f2_P1=\"33\", @f2_P2=\"38\", @f2_P1P2=\"11\">, #<#<Class:0x000055fcd5eb5c30>::Cross_data:0x000055fcd6ddb610 @parent1=\"A348\", @parent2=\"B3334\", @f2_Wild=\"80\", @f2_P1=\"26\", @f2_P2=\"29\", @f2_P1P2=\"8\">, #<#<Class:0x000055fcd5eb5c30>::Cross_data:0x000055fcd6ddb318 @parent1=\"B3334\", @parent2=\"A51\", @f2_Wild=\"99\", @f2_P1=\"36\", @f2_P2=\"34\", @f2_P1P2=\"12\">, #<#<Class:0x000055fcd5eb5c30>::Cross_data:0x000055fcd6ddb048 @parent1=\"A51\", @parent2=\"B52\", @f2_Wild=\"152\", @f2_P1=\"26\", @f2_P2=\"22\", @f2_P1P2=\"2\">, #<#<Class:0x000055fcd5eb5c30>::Cross_data:0x000055fcd6ddad78 @parent1=\"B52\", @parent2=\"A334\", @f2_Wild=\"75\", @f2_P1=\"22\", @f2_P2=\"30\", @f2_P1P2=\"7\">]"
     ]
    }
   ],
   "source": [
    "print Cross_data.load_data(filepath: \"files/cross_data.tsv\")\n"
   ]
  },
  {
   "cell_type": "code",
   "execution_count": null,
   "metadata": {},
   "outputs": [],
   "source": []
  },
  {
   "cell_type": "code",
   "execution_count": null,
   "metadata": {},
   "outputs": [],
   "source": []
  }
 ],
 "metadata": {
  "kernelspec": {
   "display_name": "Ruby 3.0.0",
   "language": "ruby",
   "name": "ruby"
  },
  "language_info": {
   "file_extension": ".rb",
   "mimetype": "application/x-ruby",
   "name": "ruby",
   "version": "3.0.0"
  },
  "vscode": {
   "interpreter": {
    "hash": "31f2aee4e71d21fbe5cf8b01ff0e069b9275f58929596ceb00d14d90e3e16cd6"
   }
  }
 },
 "nbformat": 4,
 "nbformat_minor": 2
}
