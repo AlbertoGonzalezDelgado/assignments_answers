{
 "cells": [
  {
   "cell_type": "code",
   "execution_count": 73,
   "metadata": {},
   "outputs": [
    {
     "data": {
      "text/plain": [
       ":linkage"
      ]
     },
     "execution_count": 73,
     "metadata": {},
     "output_type": "execute_result"
    }
   ],
   "source": [
    "require 'csv'\n",
    "\n",
    "class Cross_data\n",
    "    attr_accessor :parent1\n",
    "    attr_accessor :parent2\n",
    "    attr_accessor :f2_Wild\n",
    "    attr_accessor :f2_P1\n",
    "    attr_accessor :f2_P2\n",
    "    attr_accessor :f2_P1P2\n",
    "\n",
    "  def initialize(parent1:,parent2:,f2_Wild:,f2_P1:,f2_P2:,f2_P1P2:)\n",
    "    @parent1 = parent1\n",
    "    @parent2 = parent2\n",
    "    @f2_Wild = f2_Wild\n",
    "    @f2_P1 = f2_P1\n",
    "    @f2_P2 = f2_P2\n",
    "    @f2_P1P2 = f2_P1P2\n",
    "  end\n",
    "\n",
    "  def Cross_data.load_data(filepath:)\n",
    "    data_cross = CSV.open(filepath, col_sep: \"\\t\", headers:true).read\n",
    "    cross_object_list = Array.new\n",
    "    \n",
    "    data_cross.each do |row|\n",
    "      cross_object = Cross_data.new(  \\\n",
    "          parent1: row[0],    \\\n",
    "          parent2: row[1],    \\\n",
    "          f2_Wild: row[2],    \\\n",
    "          f2_P1: row[3],      \\\n",
    "          f2_P2: row[4],      \\\n",
    "          f2_P1P2: row[5])\n",
    "      cross_object_list << cross_object\n",
    "    end\n",
    "    return cross_object_list\n",
    "  end\n",
    "  \n",
    "  def Cross_data.linkage(filepath:)\n",
    "    cross_table = CSV.open(filepath, col_sep: \"\\t\", headers:true).read\n",
    "    cross_table.each do |row|\n",
    "      total = 0\n",
    "      row[2..cross_table.length()].each do |value|\n",
    "        total = total + value.to_i\n",
    "      end\n",
    "      #expectancies\n",
    "      exp_fw = (total/16)*9\n",
    "      exp_fp1 = (total/16)*3\n",
    "      exp_fp2 = (total/16)*3\n",
    "      exp_fp12 = (total/16)\n",
    "      \n",
    "      #Calculating fractions\n",
    "      fw = row[2].to_f\n",
    "      fp1 = row[3].to_f\n",
    "      fp2 = row[4].to_f\n",
    "      fp12 = row[5].to_f\n",
    "      \n",
    "      #calculating chi-square values\n",
    "      chi_fw = ((fw - exp_fw)**2)/exp_fw\n",
    "      chi_fp1 = ((fp1 - exp_fp1)**2)/exp_fp1\n",
    "      chi_fp2 = ((fp2 - exp_fp2)**2)/exp_fp2\n",
    "      chi_fp12 = ((fp12 - exp_fp12)**2)/exp_fp12\n",
    "      \n",
    "      puts \"genes Parent1: #{row[0]} & Parent2: #{row[1]}\"\n",
    "      puts chi_fw,chi_fp1,chi_fp2,chi_fp12\n",
    "      puts \"\"\n",
    "      \n",
    "      if chi_fw > 0.95\n",
    "        puts \"genes #{row[0]} and #{row[1]} are linked\"\n",
    "        puts \"\"\n",
    "      end\n",
    "    end\n",
    "    return \n",
    "  end\n",
    "\n",
    "end"
   ]
  },
  {
   "cell_type": "code",
   "execution_count": 25,
   "metadata": {},
   "outputs": [
    {
     "data": {
      "text/plain": [
       "\"A334\""
      ]
     },
     "execution_count": 25,
     "metadata": {},
     "output_type": "execute_result"
    }
   ],
   "source": [
    "prueba = Cross_data.load_data(filepath: \"files/cross_data.tsv\")\n",
    "prueba[0].parent1"
   ]
  },
  {
   "cell_type": "code",
   "execution_count": 74,
   "metadata": {},
   "outputs": [
    {
     "name": "stdout",
     "output_type": "stream",
     "text": [
      "genes Parent1: A334 & Parent2: A348\n",
      "0.037037037037037035\n",
      "0.25\n",
      "0.1111111111111111\n",
      "0.08333333333333333\n",
      "\n",
      "genes Parent1: A348 & Parent2: B3334\n",
      "0.8888888888888888\n",
      "0.16666666666666666\n",
      "1.0416666666666667\n",
      "0.0\n",
      "\n",
      "genes Parent1: B3334 & Parent2: A51\n",
      "0.0\n",
      "0.2727272727272727\n",
      "0.030303030303030304\n",
      "0.09090909090909091\n",
      "\n",
      "genes Parent1: A51 & Parent2: B52\n",
      "17.925925925925927\n",
      "2.7777777777777777\n",
      "5.444444444444445\n",
      "8.333333333333334\n",
      "\n",
      "genes A51 and B52 are linked\n",
      "\n",
      "genes Parent1: B52 & Parent2: A334\n",
      "0.125\n",
      "0.16666666666666666\n",
      "1.5\n",
      "0.125\n",
      "\n"
     ]
    }
   ],
   "source": [
    "prueba2 = Cross_data.linkage(filepath: \"files/cross_data.tsv\")\n"
   ]
  },
  {
   "cell_type": "code",
   "execution_count": null,
   "metadata": {},
   "outputs": [],
   "source": []
  }
 ],
 "metadata": {
  "kernelspec": {
   "display_name": "Ruby 3.0.0",
   "language": "ruby",
   "name": "ruby"
  },
  "language_info": {
   "file_extension": ".rb",
   "mimetype": "application/x-ruby",
   "name": "ruby",
   "version": "3.0.0"
  },
  "vscode": {
   "interpreter": {
    "hash": "31f2aee4e71d21fbe5cf8b01ff0e069b9275f58929596ceb00d14d90e3e16cd6"
   }
  }
 },
 "nbformat": 4,
 "nbformat_minor": 2
}
