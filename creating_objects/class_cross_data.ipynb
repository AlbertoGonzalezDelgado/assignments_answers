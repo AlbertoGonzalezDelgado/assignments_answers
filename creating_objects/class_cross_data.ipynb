{
 "cells": [
  {
   "cell_type": "code",
   "execution_count": 3,
   "metadata": {},
   "outputs": [
    {
     "data": {
      "text/plain": [
       ":get_linked"
      ]
     },
     "execution_count": 3,
     "metadata": {},
     "output_type": "execute_result"
    }
   ],
   "source": [
    "require 'csv'\n",
    "\n",
    "class Cross_data\n",
    "    attr_accessor :parent1\n",
    "    attr_accessor :parent2\n",
    "    attr_accessor :f2_Wild\n",
    "    attr_accessor :f2_P1\n",
    "    attr_accessor :f2_P2\n",
    "    attr_accessor :f2_P1P2\n",
    "    attr_accessor :linked\n",
    "\n",
    "  def initialize(parent1:,parent2:,f2_Wild:,f2_P1:,f2_P2:,f2_P1P2:)\n",
    "    @parent1 = parent1\n",
    "    @parent2 = parent2\n",
    "    @f2_Wild = f2_Wild\n",
    "    @f2_P1 = f2_P1\n",
    "    @f2_P2 = f2_P2\n",
    "    @f2_P1P2 = f2_P1P2\n",
    "    @linked = linked\n",
    "  end\n",
    "\n",
    "  def Cross_data.load_data(filepath:)\n",
    "    data_cross = CSV.open(filepath, col_sep: \"\\t\", headers:true).read\n",
    "    cross_object_list = Array.new\n",
    "    \n",
    "    data_cross.each do |row|\n",
    "      cross_object = Cross_data.new(  \\\n",
    "          parent1: row[0],    \\\n",
    "          parent2: row[1],    \\\n",
    "          f2_Wild: row[2],    \\\n",
    "          f2_P1: row[3],      \\\n",
    "          f2_P2: row[4],      \\\n",
    "          f2_P1P2: row[5])\n",
    "      cross_object_list << cross_object\n",
    "    end\n",
    "    return cross_object_list\n",
    "  end\n",
    "  \n",
    "  def Cross_data.get_linked(filepath:)\n",
    "\n",
    "    cross_table = CSV.open(filepath, col_sep: \"\\t\", headers:true).read\n",
    "    linked=[]\n",
    "    cross_table.each do |row|\n",
    "      total = 0\n",
    "      row[2..cross_table.length()].each do |value|\n",
    "        total = total + value.to_i\n",
    "      end\n",
    "      #expectancies\n",
    "      exp_fw = (total/16)*9\n",
    "      exp_fp1 = (total/16)*3\n",
    "      exp_fp2 = (total/16)*3\n",
    "      exp_fp12 = (total/16)\n",
    "      \n",
    "      #Calculating fractions\n",
    "      fw = row[2].to_f\n",
    "      fp1 = row[3].to_f\n",
    "      fp2 = row[4].to_f\n",
    "      fp12 = row[5].to_f\n",
    "      \n",
    "      # Calculating chi-square values\n",
    "      # https://www.yourarticlelibrary.com/fish/genetics-fish/concept-of-chi-square-test-genetics/88686\n",
    "      chi_sq = ((fw - exp_fw)**2)/exp_fw + \\\n",
    "               ((fp1 - exp_fp1)**2)/exp_fp1 + \\\n",
    "               ((fp2 - exp_fp2)**2)/exp_fp2 + \\\n",
    "               ((fp12 - exp_fp12)**2)/exp_fp12\n",
    "      \n",
    "      # P-value calculated for n-1 = 3 degrees of freedom\n",
    "      if chi_sq > 7.82\n",
    "\n",
    "        linked_cross = Cross_data.load_data(filepath:filepath).select {|gene| gene.parent1 == row[0]}[0]\n",
    "        return linked_cross\n",
    "        \n",
    "      end\n",
    "    end\n",
    "  end\n",
    "end"
   ]
  },
  {
   "cell_type": "code",
   "execution_count": 4,
   "metadata": {},
   "outputs": [
    {
     "name": "stdout",
     "output_type": "stream",
     "text": [
      "#<#<Class:0x000055848d4b3bd0>::Cross_data:0x000055848e299010>"
     ]
    }
   ],
   "source": [
    "prueba = Cross_data.get_linked(filepath: \"files/cross_data.tsv\")\n",
    "print prueba"
   ]
  },
  {
   "cell_type": "code",
   "execution_count": 107,
   "metadata": {},
   "outputs": [
    {
     "name": "stdout",
     "output_type": "stream",
     "text": []
    },
    {
     "data": {
      "text/plain": [
       "[\"A51\", \"B52\"]"
      ]
     },
     "execution_count": 107,
     "metadata": {},
     "output_type": "execute_result"
    }
   ],
   "source": []
  },
  {
   "cell_type": "code",
   "execution_count": 90,
   "metadata": {},
   "outputs": [
    {
     "data": {
      "text/plain": [
       "\"B52\""
      ]
     },
     "execution_count": 90,
     "metadata": {},
     "output_type": "execute_result"
    }
   ],
   "source": []
  },
  {
   "cell_type": "code",
   "execution_count": null,
   "metadata": {},
   "outputs": [],
   "source": []
  }
 ],
 "metadata": {
  "kernelspec": {
   "display_name": "Ruby 3.0.0",
   "language": "ruby",
   "name": "ruby"
  },
  "language_info": {
   "file_extension": ".rb",
   "mimetype": "application/x-ruby",
   "name": "ruby",
   "version": "3.0.0"
  },
  "vscode": {
   "interpreter": {
    "hash": "31f2aee4e71d21fbe5cf8b01ff0e069b9275f58929596ceb00d14d90e3e16cd6"
   }
  }
 },
 "nbformat": 4,
 "nbformat_minor": 2
}
