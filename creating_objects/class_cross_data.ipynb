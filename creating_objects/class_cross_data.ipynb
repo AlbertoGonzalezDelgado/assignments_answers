{
 "cells": [
  {
   "cell_type": "code",
   "execution_count": 53,
   "metadata": {},
   "outputs": [
    {
     "data": {
      "text/plain": [
       ":linkage"
      ]
     },
     "execution_count": 53,
     "metadata": {},
     "output_type": "execute_result"
    }
   ],
   "source": [
    "require 'csv'\n",
    "\n",
    "class Cross_data\n",
    "    attr_accessor :parent1\n",
    "    attr_accessor :parent2\n",
    "    attr_accessor :f2_Wild\n",
    "    attr_accessor :f2_P1\n",
    "    attr_accessor :f2_P2\n",
    "    attr_accessor :f2_P1P2\n",
    "\n",
    "  def initialize(parent1:,parent2:,f2_Wild:,f2_P1:,f2_P2:,f2_P1P2:)\n",
    "    @parent1 = parent1\n",
    "    @parent2 = parent2\n",
    "    @f2_Wild = f2_Wild\n",
    "    @f2_P1 = f2_P1\n",
    "    @f2_P2 = f2_P2\n",
    "    @f2_P1P2 = f2_P1P2\n",
    "  end\n",
    "\n",
    "  def Cross_data.load_data(filepath:)\n",
    "    data_cross = CSV.open(filepath, col_sep: \"\\t\", headers:true).read\n",
    "    cross_object_list = Array.new\n",
    "    \n",
    "    data_cross.each do |row|\n",
    "      cross_object = Cross_data.new(  \\\n",
    "          parent1: row[0],    \\\n",
    "          parent2: row[1],    \\\n",
    "          f2_Wild: row[2],    \\\n",
    "          f2_P1: row[3],      \\\n",
    "          f2_P2: row[4],      \\\n",
    "          f2_P1P2: row[5])\n",
    "      cross_object_list << cross_object\n",
    "    end\n",
    "    return cross_object_list\n",
    "  end\n",
    "  \n",
    "  def Cross_data.linkage(filepath:)\n",
    "    cross_table = CSV.open(filepath, col_sep: \"\\t\", headers:true).read\n",
    "    cross_table.each do |row|\n",
    "      total = 0\n",
    "      row[2..cross_table.length()].each do |value|\n",
    "        total = total + value.to_i\n",
    "      end\n",
    "      #expectancies\n",
    "      exp_fw = (total/16)*9\n",
    "      exp_fp1 = (total/16)*3\n",
    "      exp_fp2 = (total/16)*3\n",
    "      exp_fp12 = (total/16)\n",
    "      \n",
    "      #Calculating fractions\n",
    "      fw = row[2].to_f\n",
    "      fp1 = row[3].to_f\n",
    "      fp2 = row[4].to_f\n",
    "      fp12 = row[5].to_f\n",
    "      \n",
    "      # Calculating chi-square values\n",
    "      # https://www.yourarticlelibrary.com/fish/genetics-fish/concept-of-chi-square-test-genetics/88686\n",
    "      chi_sq = ((fw - exp_fw)**2)/exp_fw + \\\n",
    "               ((fp1 - exp_fp1)**2)/exp_fp1 + \\\n",
    "               ((fp2 - exp_fp2)**2)/exp_fp2 + \\\n",
    "               ((fp12 - exp_fp12)**2)/exp_fp12\n",
    "      \n",
    "      puts \"genes Parent1: #{row[0]} & Parent2: #{row[1]}\"\n",
    "      \n",
    "      # P-value calculated for n-1 = 3 degrees of freedom\n",
    "      if chi_sq > 7.82\n",
    "        puts \"X2 = #{chi_sq.round(2)}   (p value < 0.05)\"\n",
    "        print \"genes #{row[0]} and #{row[1]} are linked\\n\\n\"\n",
    "      else\n",
    "        puts \"X2 = #{chi_sq.round(2)}   (p value > 0.05)\"\n",
    "        print \"genes #{row[0]} and #{row[1]} are not linked\\n\\n\"\n",
    "      end\n",
    "    end\n",
    "    return \n",
    "  end\n",
    "\n",
    "end"
   ]
  },
  {
   "cell_type": "code",
   "execution_count": 54,
   "metadata": {},
   "outputs": [
    {
     "data": {
      "text/plain": [
       "\"A334\""
      ]
     },
     "execution_count": 54,
     "metadata": {},
     "output_type": "execute_result"
    }
   ],
   "source": [
    "prueba = Cross_data.load_data(filepath: \"files/cross_data.tsv\")\n",
    "prueba[0].parent1"
   ]
  },
  {
   "cell_type": "code",
   "execution_count": 55,
   "metadata": {},
   "outputs": [
    {
     "name": "stdout",
     "output_type": "stream",
     "text": [
      "genes Parent1: A334 & Parent2: A348\n",
      "X2 = 0.48   (p value > 0.05)\n",
      "genes A334 and A348 are not linked\n",
      "\n",
      "genes Parent1: A348 & Parent2: B3334\n",
      "X2 = 2.1   (p value > 0.05)\n",
      "genes A348 and B3334 are not linked\n",
      "\n",
      "genes Parent1: B3334 & Parent2: A51\n",
      "X2 = 0.39   (p value > 0.05)\n",
      "genes B3334 and A51 are not linked\n",
      "\n",
      "genes Parent1: A51 & Parent2: B52\n",
      "X2 = 34.48   (p value < 0.05)\n",
      "genes A51 and B52 are linked\n",
      "\n",
      "genes Parent1: B52 & Parent2: A334\n",
      "X2 = 1.92   (p value > 0.05)\n",
      "genes B52 and A334 are not linked\n",
      "\n"
     ]
    }
   ],
   "source": [
    "prueba2 = Cross_data.linkage(filepath: \"files/cross_data.tsv\")\n"
   ]
  },
  {
   "cell_type": "code",
   "execution_count": null,
   "metadata": {},
   "outputs": [],
   "source": []
  },
  {
   "cell_type": "code",
   "execution_count": null,
   "metadata": {},
   "outputs": [],
   "source": []
  }
 ],
 "metadata": {
  "kernelspec": {
   "display_name": "Ruby 3.0.0",
   "language": "ruby",
   "name": "ruby"
  },
  "language_info": {
   "file_extension": ".rb",
   "mimetype": "application/x-ruby",
   "name": "ruby",
   "version": "3.0.0"
  },
  "vscode": {
   "interpreter": {
    "hash": "31f2aee4e71d21fbe5cf8b01ff0e069b9275f58929596ceb00d14d90e3e16cd6"
   }
  }
 },
 "nbformat": 4,
 "nbformat_minor": 2
}
