{
 "cells": [
  {
   "cell_type": "code",
   "execution_count": 17,
   "id": "4a3c6212",
   "metadata": {},
   "outputs": [
    {
     "name": "stdout",
     "output_type": "stream",
     "text": [
      "A334\tAT1G69120\t5/7/2014\tcama2\t28\n"
     ]
    },
    {
     "ename": "NoMethodError",
     "evalue": "undefined method `call' for []:Array",
     "output_type": "error",
     "traceback": [
      "\u001b[31mNoMethodError\u001b[0m: undefined method `call' for []:Array",
      "(irb):4:in `<main>'"
     ]
    }
   ],
   "source": [
    "## We create and object File named seed_stock.\n",
    "\n",
    "seed_stock = File.open(\"./files/seed_stock_data.tsv\", \"r\")\n",
    "seed_stock.each.next\n",
    "data = Array.new.(puts seed_stock.each.next)"
   ]
  }
 ],
 "metadata": {
  "kernelspec": {
   "display_name": "Ruby 3.0.0",
   "language": "ruby",
   "name": "ruby"
  },
  "language_info": {
   "file_extension": ".rb",
   "mimetype": "application/x-ruby",
   "name": "ruby",
   "version": "3.0.0"
  }
 },
 "nbformat": 4,
 "nbformat_minor": 5
}
