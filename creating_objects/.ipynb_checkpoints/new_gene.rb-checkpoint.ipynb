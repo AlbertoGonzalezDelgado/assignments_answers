{
 "cells": [
  {
   "cell_type": "code",
   "execution_count": 4,
   "id": "04af0cb2",
   "metadata": {},
   "outputs": [
    {
     "ename": "NameError",
     "evalue": "undefined local variable or method `csv' for #<Object:0x00005577531a4918 @prompt={:PROMPT_I=>\"3.0.0 :%03n > \", :PROMPT_S=>\"3.0.0 :%03n%l> \", :PROMPT_C=>\"3.0.0 :%03n > \", :PROMPT_N=>\"3.0.0 :%03n?> \", :RETURN=>\" => %s \\n\", :AUTO_INDENT=>true}>",
     "output_type": "error",
     "traceback": [
      "\u001b[31mNameError\u001b[0m: undefined local variable or method `csv' for #<Object:0x00005577531a4918 @prompt={:PROMPT_I=>\"3.0.0 :%03n > \", :PROMPT_S=>\"3.0.0 :%03n%l> \", :PROMPT_C=>\"3.0.0 :%03n > \", :PROMPT_N=>\"3.0.0 :%03n?> \", :RETURN=>\" => %s \\n\", :AUTO_INDENT=>true}>",
      "(irb):in `<main>'"
     ]
    }
   ],
   "source": [
    "require csv\n",
    "\n",
    "class Gene\n",
    "\n",
    "  atrr_accesor :ID\n",
    "  atrr_accesor :name\n",
    "  atrr_accesor :mutantphenotype\n",
    "  \n",
    "  @@number_genes=0\n",
    "  \n",
    "  def initialize()\n",
    "    @ID = n_ID\n",
    "    @name= name\n",
    "    @mutantphenotype=mutantphenotype\n",
    "    \n",
    "\n",
    "  def load_file (file_path:)\n",
    "    return unless File.exists?(\"File does not exists\")\n",
    "    @file=CSV.parse(File.read(file_path),header=True)\n",
    "    puts file\n",
    "    puts ''\n",
    "    puts file_path\n",
    "    \n",
    "  end\n",
    "end\n",
    "\n"
   ]
  },
  {
   "cell_type": "code",
   "execution_count": null,
   "id": "9732da64",
   "metadata": {},
   "outputs": [],
   "source": []
  }
 ],
 "metadata": {
  "kernelspec": {
   "display_name": "Ruby 3.0.0",
   "language": "ruby",
   "name": "ruby"
  },
  "language_info": {
   "file_extension": ".rb",
   "mimetype": "application/x-ruby",
   "name": "ruby",
   "version": "3.0.0"
  }
 },
 "nbformat": 4,
 "nbformat_minor": 5
}
