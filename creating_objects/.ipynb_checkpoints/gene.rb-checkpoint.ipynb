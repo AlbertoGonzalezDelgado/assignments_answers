{
 "cells": [
  {
   "cell_type": "code",
   "execution_count": 2,
   "id": "dc435480",
   "metadata": {},
   "outputs": [
    {
     "ename": "NoMethodError",
     "evalue": "undefined method `file' for #<#<Class:0x000055cbdab3a730>::Gene:0x000055cbdb427be0>",
     "output_type": "error",
     "traceback": [
      "\u001b[31mNoMethodError\u001b[0m: undefined method `file' for #<#<Class:0x000055cbdab3a730>::Gene:0x000055cbdb427be0>",
      "(irb):10:in `<main>'"
     ]
    }
   ],
   "source": [
    "require 'csv'\n",
    "class Gene\n",
    "  \n",
    "  attr_accesor :geneID\n",
    "  atrr_accesor :genename\n",
    "  atrr_accesor :mutantphenotype\n",
    "  \n",
    "  def initialize (file_path:)\n",
    "    return unless File.exists?(\"File does not exists\")\n",
    "    @file = CSV.parse(File.read(file_path),header=True)\n",
    "    puts file_path\n",
    "  end\n",
    "end\n",
    "\n",
    "hola=Gene.new(file_path:\"files/gene_information.tsv\")\n",
    "puts hola.file"
   ]
  }
 ],
 "metadata": {
  "kernelspec": {
   "display_name": "Ruby 3.0.0",
   "language": "ruby",
   "name": "ruby"
  },
  "language_info": {
   "file_extension": ".rb",
   "mimetype": "application/x-ruby",
   "name": "ruby",
   "version": "3.0.0"
  }
 },
 "nbformat": 4,
 "nbformat_minor": 5
}
