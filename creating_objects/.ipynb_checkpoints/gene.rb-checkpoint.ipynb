{
 "cells": [
  {
   "cell_type": "code",
   "execution_count": 20,
   "id": "dc435480",
   "metadata": {},
   "outputs": [
    {
     "data": {
      "text/plain": [
       "#<#<Class:0x000055711c2108f8>::Gene:0x000055711cc3a1d0>"
      ]
     },
     "execution_count": 20,
     "metadata": {},
     "output_type": "execute_result"
    }
   ],
   "source": [
    "require 'csv'\n",
    "class Gene\n",
    "  \n",
    "class Gene\n",
    "    attr_accessor :gene_id\n",
    "    attr_accessor :gene_name\n",
    "    attr_accessor :mutant_phenotype\n",
    "  \n",
    "  def initialize(gene_id:, gene_name:, mutant_phenotype:)\n",
    "    @gene_id = :gene_id\n",
    "    @gene_name = :gene_name\n",
    "    @mutant_phenotype = :mutant_phenotype\n",
    "\n",
    "'''                                                        Esto debería ir al main, creo que hay que crear las clases \n",
    "  def initialize (file_genes:)                             con las características de la tabla y leemos cada fila del\n",
    "    #return unless File.exists?(\"File does not exists\")    File como un objeto.\n",
    "    @file = csv.parse(File.read(file_genes),header=True)\n",
    "    puts file_genes\n",
    "  end\n",
    "'''\n",
    "    \n",
    "\n",
    "    \n",
    "    \n",
    "  end\n",
    "\n"
   ]
  }
 ],
 "metadata": {
  "kernelspec": {
   "display_name": "Ruby 3.0.0",
   "language": "ruby",
   "name": "ruby"
  },
  "language_info": {
   "file_extension": ".rb",
   "mimetype": "application/x-ruby",
   "name": "ruby",
   "version": "3.0.0"
  }
 },
 "nbformat": 4,
 "nbformat_minor": 5
}
