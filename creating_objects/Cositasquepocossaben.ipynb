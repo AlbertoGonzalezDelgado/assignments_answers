{
 "cells": [
  {
   "cell_type": "code",
   "execution_count": 5,
   "id": "8c59032a",
   "metadata": {},
   "outputs": [
    {
     "data": {
      "application/javascript": [
       "if(window['d3'] === undefined ||\n",
       "   window['Nyaplot'] === undefined){\n",
       "    var path = {\"d3\":\"https://cdnjs.cloudflare.com/ajax/libs/d3/3.5.5/d3.min\",\"downloadable\":\"http://cdn.rawgit.com/domitry/d3-downloadable/master/d3-downloadable\"};\n",
       "\n",
       "\n",
       "\n",
       "    var shim = {\"d3\":{\"exports\":\"d3\"},\"downloadable\":{\"exports\":\"downloadable\"}};\n",
       "\n",
       "    require.config({paths: path, shim:shim});\n",
       "\n",
       "\n",
       "require(['d3'], function(d3){window['d3']=d3;console.log('finished loading d3');require(['downloadable'], function(downloadable){window['downloadable']=downloadable;console.log('finished loading downloadable');\n",
       "\n",
       "\tvar script = d3.select(\"head\")\n",
       "\t    .append(\"script\")\n",
       "\t    .attr(\"src\", \"http://cdn.rawgit.com/domitry/Nyaplotjs/master/release/nyaplot.js\")\n",
       "\t    .attr(\"async\", true);\n",
       "\n",
       "\tscript[0][0].onload = script[0][0].onreadystatechange = function(){\n",
       "\n",
       "\n",
       "\t    var event = document.createEvent(\"HTMLEvents\");\n",
       "\t    event.initEvent(\"load_nyaplot\",false,false);\n",
       "\t    window.dispatchEvent(event);\n",
       "\t    console.log('Finished loading Nyaplotjs');\n",
       "\n",
       "\t};\n",
       "\n",
       "\n",
       "});});\n",
       "}\n"
      ],
      "text/plain": [
       "\"if(window['d3'] === undefined ||\\n   window['Nyaplot'] === undefined){\\n    var path = {\\\"d3\\\":\\\"https://cdnjs.cloudflare.com/ajax/libs/d3/3.5.5/d3.min\\\",\\\"downloadable\\\":\\\"http://cdn.rawgit.com/domitry/d3-downloadable/master/d3-downloadable\\\"};\\n\\n\\n\\n    var shim = {\\\"d3\\\":{\\\"exports\\\":\\\"d3\\\"},\\\"downloadable\\\":{\\\"exports\\\":\\\"downloadable\\\"}};\\n\\n    require.config({paths: path, shim:shim});\\n\\n\\nrequire(['d3'], function(d3){window['d3']=d3;console.log('finished loading d3');require(['downloadable'], function(downloadable){window['downloadable']=downloadable;console.log('finished loading downloadable');\\n\\n\\tvar script = d3.select(\\\"head\\\")\\n\\t    .append(\\\"script\\\")\\n\\t    .attr(\\\"src\\\", \\\"http://cdn.rawgit.com/domitry/Nyaplotjs/master/release/nyaplot.js\\\")\\n\\t    .attr(\\\"async\\\", true);\\n\\n\\tscript[0][0].onload = script[0][0].onreadystatechange = function(){\\n\\n\\n\\t    var event = document.createEvent(\\\"HTMLEvents\\\");\\n\\t    event.initEvent(\\\"load_nyaplot\\\",false,false);\\n\\t    window.dispatchEvent(event);\\n\\t    console.log('Finished loading Nyaplotjs');\\n\\n\\t};\\n\\n\\n});});\\n}\\n\""
      ]
     },
     "metadata": {},
     "output_type": "display_data"
    },
    {
     "data": {
      "text/html": [
       "<b> Daru::DataFrame(3x2) </b>\n",
       "<table border=\"1\" class=\"dataframe\">\n",
       "  <thead>\n",
       "  \n",
       "    <tr>\n",
       "      <th></th>\n",
       "      \n",
       "        <th>country</th>\n",
       "      \n",
       "        <th>population</th>\n",
       "      \n",
       "    </tr>\n",
       "  \n",
       "</thead>\n",
       "  <tbody>\n",
       "  \n",
       "    <tr>\n",
       "      <td>0</td>\n",
       "      \n",
       "        <td>Whina</td>\n",
       "      \n",
       "        <td>1143</td>\n",
       "      \n",
       "    </tr>\n",
       "  \n",
       "    <tr>\n",
       "      <td>1</td>\n",
       "      \n",
       "        <td>EEUU</td>\n",
       "      \n",
       "        <td>1366</td>\n",
       "      \n",
       "    </tr>\n",
       "  \n",
       "    <tr>\n",
       "      <td>2</td>\n",
       "      \n",
       "        <td>USA</td>\n",
       "      \n",
       "        <td>329</td>\n",
       "      \n",
       "    </tr>\n",
       "  \n",
       "\n",
       "  \n",
       "</tbody>\n",
       "</table>"
      ],
      "text/plain": [
       "#<Daru::DataFrame(3x2)>\n",
       "               country population\n",
       "          0      Whina       1143\n",
       "          1       EEUU       1366\n",
       "          2        USA        329"
      ]
     },
     "execution_count": 5,
     "metadata": {},
     "output_type": "execute_result"
    }
   ],
   "source": [
    "require 'daru'\n",
    "df=Daru::DataFrame.new(\n",
    "  country:[\"Whina\",\"EEUU\",\"USA\"],\n",
    "  population: [1143,1366,329]\n",
    "  )\n",
    "\n"
   ]
  },
  {
   "cell_type": "code",
   "execution_count": 16,
   "id": "1558c5df",
   "metadata": {},
   "outputs": [
    {
     "ename": "Gem::MissingSpecError",
     "evalue": "Could not find 'daru' (~> 0.3) among 173 total gem(s)\nChecked in 'GEM_PATH=/home/osboxes/.rvm/gems/ruby-3.0.0:/home/osboxes/.rvm/rubies/ruby-3.0.0/lib/ruby/gems/3.0.0' , execute `gem env` for more information",
     "output_type": "error",
     "traceback": [
      "\u001b[31mGem::MissingSpecError\u001b[0m: Could not find 'daru' (~> 0.3) among 173 total gem(s)\nChecked in 'GEM_PATH=/home/osboxes/.rvm/gems/ruby-3.0.0:/home/osboxes/.rvm/rubies/ruby-3.0.0/lib/ruby/gems/3.0.0' , execute `gem env` for more information",
      "/home/osboxes/.rvm/rubies/ruby-3.0.0/lib/ruby/site_ruby/3.0.0/rubygems/dependency.rb:311:in `to_specs'",
      "/home/osboxes/.rvm/rubies/ruby-3.0.0/lib/ruby/site_ruby/3.0.0/rubygems/dependency.rb:323:in `to_spec'",
      "/home/osboxes/.rvm/rubies/ruby-3.0.0/lib/ruby/site_ruby/3.0.0/rubygems/core_ext/kernel_gem.rb:62:in `gem'",
      "(irb):in `<main>'"
     ]
    }
   ],
   "source": [
    "gem 'daru', '~> 0.3'"
   ]
  },
  {
   "cell_type": "code",
   "execution_count": 21,
   "id": "f61d0289",
   "metadata": {},
   "outputs": [
    {
     "ename": "NameError",
     "evalue": "undefined local variable or method `data_cross' for #<Object:0x000055b494ef5760 @prompt={:PROMPT_I=>\"3.0.0 :%03n > \", :PROMPT_S=>\"3.0.0 :%03n%l> \", :PROMPT_C=>\"3.0.0 :%03n > \", :PROMPT_N=>\"3.0.0 :%03n?> \", :RETURN=>\" => %s \\n\", :AUTO_INDENT=>true}>",
     "output_type": "error",
     "traceback": [
      "\u001b[31mNameError\u001b[0m: undefined local variable or method `data_cross' for #<Object:0x000055b494ef5760 @prompt={:PROMPT_I=>\"3.0.0 :%03n > \", :PROMPT_S=>\"3.0.0 :%03n%l> \", :PROMPT_C=>\"3.0.0 :%03n > \", :PROMPT_N=>\"3.0.0 :%03n?> \", :RETURN=>\" => %s \\n\", :AUTO_INDENT=>true}>",
      "(irb):4:in `<main>'"
     ]
    }
   ],
   "source": [
    "require 'csv'\n",
    "df=Daru::DataFrame.new()\n",
    "data=CSV.open(\"./files/cross_data.tsv\", col_sep: \"\\t\", headers:true).read\n",
    "\n",
    "        data_cross.each do |row|\n",
    "            cross_object = Cross_data.new(  \\\n",
    "                parent1: row[0],    \\\n",
    "                parent2: row[1],    \\\n",
    "                f2_Wild: row[2],    \\\n",
    "                f2_P1: row[3],      \\\n",
    "                f2_P2: row[4],      \\\n",
    "                f2_P1P2: row[5])\n",
    "            df=Daru::DataFrame.\n",
    "        return cross_object_list\n",
    "        end\n"
   ]
  },
  {
   "cell_type": "code",
   "execution_count": 27,
   "id": "c744f1f2",
   "metadata": {},
   "outputs": [
    {
     "data": {
      "text/html": [
       "<b> Daru::DataFrame(5x6) </b>\n",
       "<table border=\"1\" class=\"dataframe\">\n",
       "  <thead>\n",
       "  \n",
       "    <tr>\n",
       "      <th></th>\n",
       "      \n",
       "        <th>Parent1</th>\n",
       "      \n",
       "        <th>Parent2</th>\n",
       "      \n",
       "        <th>F2_Wild</th>\n",
       "      \n",
       "        <th>F2_P1</th>\n",
       "      \n",
       "        <th>F2_P2</th>\n",
       "      \n",
       "        <th>F2_P1P2</th>\n",
       "      \n",
       "    </tr>\n",
       "  \n",
       "</thead>\n",
       "  <tbody>\n",
       "  \n",
       "    <tr>\n",
       "      <td>0</td>\n",
       "      \n",
       "        <td>A334</td>\n",
       "      \n",
       "        <td>A348</td>\n",
       "      \n",
       "        <td>110</td>\n",
       "      \n",
       "        <td>33</td>\n",
       "      \n",
       "        <td>38</td>\n",
       "      \n",
       "        <td>11</td>\n",
       "      \n",
       "    </tr>\n",
       "  \n",
       "    <tr>\n",
       "      <td>1</td>\n",
       "      \n",
       "        <td>A348</td>\n",
       "      \n",
       "        <td>B3334</td>\n",
       "      \n",
       "        <td>80</td>\n",
       "      \n",
       "        <td>26</td>\n",
       "      \n",
       "        <td>29</td>\n",
       "      \n",
       "        <td>8</td>\n",
       "      \n",
       "    </tr>\n",
       "  \n",
       "    <tr>\n",
       "      <td>2</td>\n",
       "      \n",
       "        <td>B3334</td>\n",
       "      \n",
       "        <td>A51</td>\n",
       "      \n",
       "        <td>99</td>\n",
       "      \n",
       "        <td>36</td>\n",
       "      \n",
       "        <td>34</td>\n",
       "      \n",
       "        <td>12</td>\n",
       "      \n",
       "    </tr>\n",
       "  \n",
       "    <tr>\n",
       "      <td>3</td>\n",
       "      \n",
       "        <td>A51</td>\n",
       "      \n",
       "        <td>B52</td>\n",
       "      \n",
       "        <td>152</td>\n",
       "      \n",
       "        <td>26</td>\n",
       "      \n",
       "        <td>22</td>\n",
       "      \n",
       "        <td>2</td>\n",
       "      \n",
       "    </tr>\n",
       "  \n",
       "    <tr>\n",
       "      <td>4</td>\n",
       "      \n",
       "        <td>B52</td>\n",
       "      \n",
       "        <td>A334</td>\n",
       "      \n",
       "        <td>75</td>\n",
       "      \n",
       "        <td>22</td>\n",
       "      \n",
       "        <td>30</td>\n",
       "      \n",
       "        <td>7</td>\n",
       "      \n",
       "    </tr>\n",
       "  \n",
       "\n",
       "  \n",
       "</tbody>\n",
       "</table>"
      ],
      "text/plain": [
       "#<Daru::DataFrame(5x6)>\n",
       "         Parent1 Parent2 F2_Wild   F2_P1   F2_P2 F2_P1P2\n",
       "       0    A334    A348     110      33      38      11\n",
       "       1    A348   B3334      80      26      29       8\n",
       "       2   B3334     A51      99      36      34      12\n",
       "       3     A51     B52     152      26      22       2\n",
       "       4     B52    A334      75      22      30       7"
      ]
     },
     "execution_count": 27,
     "metadata": {},
     "output_type": "execute_result"
    }
   ],
   "source": [
    "df = Daru::DataFrame.from_csv(\"./files/cross_data.tsv\",col_sep: \"\\t\")"
   ]
  },
  {
   "cell_type": "code",
   "execution_count": 32,
   "id": "b0b8c735",
   "metadata": {},
   "outputs": [
    {
     "data": {
      "text/html": [
       "<b> Daru::Vector(5) </b>\n",
       "<table>\n",
       "  <thead>\n",
       "  \n",
       "    <tr>\n",
       "        <th> </th>\n",
       "        <th>F2_Wild</th>\n",
       "    </tr>\n",
       "  \n",
       "</thead>\n",
       "  <tbody>\n",
       "  \n",
       "    <tr>\n",
       "      <td>0</td>\n",
       "      <td>103</td>\n",
       "    </tr>\n",
       "  \n",
       "    <tr>\n",
       "      <td>1</td>\n",
       "      <td>73</td>\n",
       "    </tr>\n",
       "  \n",
       "    <tr>\n",
       "      <td>2</td>\n",
       "      <td>92</td>\n",
       "    </tr>\n",
       "  \n",
       "    <tr>\n",
       "      <td>3</td>\n",
       "      <td>145</td>\n",
       "    </tr>\n",
       "  \n",
       "    <tr>\n",
       "      <td>4</td>\n",
       "      <td>68</td>\n",
       "    </tr>\n",
       "  \n",
       "\n",
       "  \n",
       "</tbody>\n",
       "</table>"
      ],
      "text/plain": [
       "#<Daru::Vector(5)>\n",
       "         F2_Wild\n",
       "       0     103\n",
       "       1      73\n",
       "       2      92\n",
       "       3     145\n",
       "       4      68"
      ]
     },
     "execution_count": 32,
     "metadata": {},
     "output_type": "execute_result"
    }
   ],
   "source": [
    "df[\"F2_Wild\"]=df[\"F2_Wild\"]-7"
   ]
  }
 ],
 "metadata": {
  "kernelspec": {
   "display_name": "Ruby 3.0.0",
   "language": "ruby",
   "name": "ruby"
  },
  "language_info": {
   "file_extension": ".rb",
   "mimetype": "application/x-ruby",
   "name": "ruby",
   "version": "3.0.0"
  }
 },
 "nbformat": 4,
 "nbformat_minor": 5
}
