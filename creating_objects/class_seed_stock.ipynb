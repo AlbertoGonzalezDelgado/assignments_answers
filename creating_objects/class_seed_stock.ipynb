{
 "cells": [
  {
   "cell_type": "code",
   "execution_count": 530,
   "id": "4c12984c",
   "metadata": {},
   "outputs": [
    {
     "name": "stderr",
     "output_type": "stream",
     "text": [
      "WARNING: we have run out of Seed Stock A51\n",
      "WARNING: we have run out of Seed Stock B52\n"
     ]
    },
    {
     "name": "stdout",
     "output_type": "stream",
     "text": [
      "Seed_Stock\tMutant_Gene_ID\tLast_Planted\tStorage\tGrams_Remaining\n",
      "A51\tAT1G30950\t9/2/2013\tcama25\t5\n",
      "\n"
     ]
    }
   ],
   "source": [
    "class Stockdb\n",
    "  require 'csv'\n",
    "  attr_accessor :table\n",
    "  attr_accessor :headers\n",
    "  attr_accessor :path\n",
    "  attr_accessor :stockpath\n",
    "  attr_accessor :tsvtable\n",
    "  \n",
    "  def initialize (stockpath:)\n",
    "    unless File.file?(stockpath)\n",
    "      return (\"File doesn't exist\")\n",
    "    else\n",
    "      @path = Dir.pwd # Current working directory\n",
    "      @stockpath = stockpath # Seed_stock_data.tsv path\n",
    "      @table = CSV.read(File.open(stockpath), headers: true, col_sep: \"\\t\") # Importing stockfile as table\n",
    "      @headers = table.headers\n",
    "      @tsvtable = CSV.parse(File.open(stockpath), headers: true) #tab separated table for data inspection\n",
    "      \n",
    "      table.headers.each do |header|\n",
    "        define_singleton_method \"get_#{header.downcase}\" do |match| # Dinamycally declaring methods for each header \n",
    "            col = @table[header] \n",
    "            index = col.each_index.select{ |x| col[x] == match} #Selecting column indexes that match input\n",
    "            puts @headers.join(\"\\t\") #printing headers to preserve table info\n",
    "            index.each { |i| row = \"#{@table[i]}\" \n",
    "            row = row.gsub(\",\", \"\\t\") # Selecting index's row and replacing , for tab\n",
    "            puts row\n",
    "            }\n",
    "            return \n",
    "        end\n",
    "      end\n",
    "    end\n",
    "  end\n",
    "\n",
    "  def Stockdb.new_database (stockpath, newdb)\n",
    "    @path = Dir.pwd\n",
    "    @table = CSV.read(File.open(stockpath), headers: true, col_sep: \"\\t\")\n",
    "    newstock = @table\n",
    "    newstock.each { |row| #Iterating over each row\n",
    "      row[4] = (row[4].to_i - 7) # Substraction from Grams_Remaining\n",
    "      if row[4] <= 0 # return error message if value equal or < 0\n",
    "        row[4]=0\n",
    "        $stderr.puts \"WARNING: we have run out of Seed Stock #{row[0]}\"\n",
    "      end\n",
    "    }\n",
    "    CSV.open(\"#{@path}/#{newdb}\", 'w', col_sep: \"\\t\") do |tsv| #Creating file to save new data in pwd\n",
    "      tsv << newstock.headers #saving headers\n",
    "      newstock.each { |row| tsv << row } #saving modified rows\n",
    "    end\n",
    "    return newstock\n",
    "  end\n",
    "  \n",
    "  #https://www.toptal.com/ruby/ruby-metaprogramming-cooler-than-it-sounds\n",
    "\n",
    "end\n",
    "\n",
    "#Testing \n",
    "prueba2 = Stockdb.new(stockpath: \"/home/osboxes/bioinfogit/bioinfo_Chals/seed_stock_data.tsv\")\n",
    "prueba = Stockdb.new_database(\"/home/osboxes/bioinfogit/bioinfo_Chals/seed_stock_data.tsv\", 'newstock.tsv')\n",
    "#prueba2.get_Seed_Stock('A348')\n",
    "#stock.get_Mutant_Gene_ID('AT5G20240')\n",
    "puts stock.get_Seed_Stock('A51')\n",
    "#puts stock.new_database('newstock.tsv')\n",
    "#stock.headers"
   ]
  },
  {
   "cell_type": "code",
   "execution_count": 520,
   "id": "a42f403f",
   "metadata": {},
   "outputs": [
    {
     "ename": "NoMethodError",
     "evalue": "undefined method `each' for nil:NilClass",
     "output_type": "error",
     "traceback": [
      "\u001b[31mNoMethodError\u001b[0m: undefined method `each' for nil:NilClass",
      "(irb):85:in `new_stockdb'",
      "(irb):in `<main>'"
     ]
    }
   ],
   "source": [
    "clases[0].new_stockdb('a')"
   ]
  },
  {
   "cell_type": "code",
   "execution_count": null,
   "id": "6d7b5e5e",
   "metadata": {},
   "outputs": [],
   "source": [
    "  \n",
    "  attr_accessor :seed_stock\n",
    "  attr_accessor :mutant_gene_id\n",
    "  attr_accessor :last_planted\n",
    "  attr_accessor :storage\n",
    "  attr_accessor :grams_remaining\n",
    "  attr_accessor :objects\n",
    "\n",
    "\n",
    "      @seed_stock = seed_stock\n",
    "      @mutant_gene_id = mutant_gene_id\n",
    "      @last_planted = last_planted\n",
    "      @storage = storage\n",
    "      @grams_remaining = grams_remaining  \n",
    "\n",
    "  def Stockdb.load_stock (stockpath:)\n",
    "    unless File.file?(stockpath)                # Check if file exists\n",
    "      return \"This file path does not exist\"\n",
    "    else\n",
    "      stock_array = CSV.open(stockpath, col_sep: \"\\t\", headers:true).read\n",
    "      stock_object_list = Array.new  ## Empty array created to append gene objects.\n",
    "\n",
    "      # Conversion of genes into Gene objects\n",
    "      stock_array.each do |stock|\n",
    "        stock_object = Stockdb.new(seed_stock: stock[0],\n",
    "          mutant_gene_id: stock[1],last_planted: stock[2], \n",
    "          storage: stock[3], grams_remaining: stock[4])\n",
    "        stock_object_list << stock_object\n",
    "      end\n",
    "      @objects = stock_object_list\n",
    "      return stock_object_list\n",
    "    end\n",
    "  end"
   ]
  }
 ],
 "metadata": {
  "kernelspec": {
   "display_name": "Ruby 3.0.0",
   "language": "ruby",
   "name": "ruby"
  },
  "language_info": {
   "file_extension": ".rb",
   "mimetype": "application/x-ruby",
   "name": "ruby",
   "version": "3.0.0"
  }
 },
 "nbformat": 4,
 "nbformat_minor": 5
}
