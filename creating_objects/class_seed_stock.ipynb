{
 "cells": [
  {
   "cell_type": "code",
   "execution_count": 208,
   "id": "6f297643",
   "metadata": {},
   "outputs": [
    {
     "name": "stdout",
     "output_type": "stream",
     "text": [
      "Seed_Stock,Mutant_Gene_ID,Last_Planted,Storage,Grams_Remaining\n",
      "A334,AT1G69120,5/7/2014,cama2,28\n",
      "A348,AT4G36920,3/11/2013,cama25,12\n",
      "B3334,AT3G54340,1/12/2014,cama18,22\n",
      "A51,AT1G30950,9/2/2013,cama25,5\n",
      "B52,AT5G20240,8/11/2012,cama16,7\n"
     ]
    },
    {
     "name": "stderr",
     "output_type": "stream",
     "text": [
      "WARNING: we have run out of Seed Stock A51\n",
      "WARNING: we have run out of Seed Stock B52\n"
     ]
    },
    {
     "name": "stdout",
     "output_type": "stream",
     "text": [
      "Seed_Stock,Mutant_Gene_ID,Last_Planted,Storage,Grams_Remaining\n",
      "A334,AT1G69120,5/7/2014,cama2,21\n",
      "A348,AT4G36920,3/11/2013,cama25,5\n",
      "B3334,AT3G54340,1/12/2014,cama18,15\n",
      "A51,AT1G30950,9/2/2013,cama25,0\n",
      "B52,AT5G20240,8/11/2012,cama16,0\n"
     ]
    }
   ],
   "source": [
    "class Seedstock\n",
    "  require 'csv'\n",
    "  attr_accessor :table\n",
    "  attr_accessor :stockID\n",
    "  attr_accessor :mutant\n",
    "  attr_accessor :path\n",
    "  \n",
    "  def initialize (stockpath:)\n",
    "    unless File.file?(stockpath)\n",
    "      return (\"File doesn't exist\")\n",
    "    else\n",
    "      @path = Dir.pwd\n",
    "      @stockpath = stockpath\n",
    "      @stockID = stockID\n",
    "      @mutant = mutant\n",
    "      @table = CSV.read(File.open(stockpath), headers: true, col_sep: \"\\t\")\n",
    "    end\n",
    "  end\n",
    "\n",
    "\n",
    "  def seeding (seednum)\n",
    "    path = @path\n",
    "    newstock = @table\n",
    "    newstock.each { |row| #Iterating over each row\n",
    "      row[4] = (row[4].to_i - seednum) # Substraction of input from Grams_Remaining\n",
    "      if row[4] <= 0 # return error message if value < 0\n",
    "        row[4]=0\n",
    "        $stderr.puts \"WARNING: we have run out of Seed Stock #{row[0]}\"\n",
    "      end\n",
    "    }\n",
    "    CSV.open(\"#{path}/newstock.tsv\", 'w', col_sep: \"\\t\") do |tsv|\n",
    "      tsv << newstock.headers\n",
    "      newstock.each { |row| tsv << row }\n",
    "    end\n",
    "    return newstock\n",
    "  end\n",
    "  \n",
    "  def linking (stockid, mut_gene)\n",
    "    @stockID = stockid\n",
    "    @mutant = mut_gene\n",
    "  end\n",
    "    \n",
    "end\n",
    "\n",
    "#Testing\n",
    "#stock = Seedstock.new(stockpath: \"/home/osboxes/bioinfogit/bioinfo_Chals/seed_stock_data.tsv\")\n",
    "#puts stock.table \n",
    "#puts stock.seeding(7)"
   ]
  }
 ],
 "metadata": {
  "kernelspec": {
   "display_name": "Ruby 3.0.0",
   "language": "ruby",
   "name": "ruby"
  },
  "language_info": {
   "file_extension": ".rb",
   "mimetype": "application/x-ruby",
   "name": "ruby",
   "version": "3.0.0"
  }
 },
 "nbformat": 4,
 "nbformat_minor": 5
}
