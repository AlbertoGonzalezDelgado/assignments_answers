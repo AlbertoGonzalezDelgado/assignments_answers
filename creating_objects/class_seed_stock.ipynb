{
 "cells": [
  {
   "cell_type": "code",
   "execution_count": 14,
   "id": "4c12984c",
   "metadata": {},
   "outputs": [
    {
     "data": {
      "text/plain": [
       "\"File doesn't exist\""
      ]
     },
     "execution_count": 14,
     "metadata": {},
     "output_type": "execute_result"
    }
   ],
   "source": [
    "require 'csv'\n",
    "require './class_cross_data.rb'\n",
    "\n",
    "class Stockdb\n",
    "  attr_accessor :table\n",
    "  attr_accessor :headers\n",
    "  attr_accessor :path\n",
    "  attr_accessor :stockpath\n",
    "  attr_accessor :tsvtable\n",
    "  \n",
    "  attr_accessor :seed_stock\n",
    "  attr_accessor :mutant_gene_id\n",
    "  attr_accessor :last_planted\n",
    "  attr_accessor :storage\n",
    "  attr_accessor :grams_remaining\n",
    "  \n",
    "  def initialize (seed_stock:, mutant_gene_id:, last_planted:, storage:, grams_remaining:)\n",
    "      @seed_stock = seed_stock\n",
    "      @mutant_gene_id = mutant_gene_id\n",
    "      @last_planted = last_planted\n",
    "      @storage = storage\n",
    "      @grams_remaining = grams_remaining\n",
    "  end\n",
    "\n",
    "  def Stockdb.load_file(stockpath:)\n",
    "    unless File.file?(stockpath)\n",
    "      return (\"File doesn't exist\")\n",
    "    else\n",
    "      stock_array = CSV.read(File.open(stockpath), headers: true, col_sep: \"\\t\") # Importing stockfile as table\n",
    "      @path = Dir.pwd # Current working directory\n",
    "      @stockpath = stockpath # Seed_stock_data.tsv path\n",
    "      @table = stock_array\n",
    "      stock_object_list = Array.new  ## Empty array created to append gene objects.\n",
    "\n",
    "      # Conversion of genes into Gene objects\n",
    "      stock_array.each do |data|\n",
    "        stock_object = Stockdb.new(seed_stock: data[0], mutant_gene_id: data[1], last_planted: data[2],\n",
    "        storage: data[3], grams_remaining: data[5])\n",
    "        stock_object_list << stock_object\n",
    "      end\n",
    "      \n",
    "      return stock_object_list\n",
    "    end \n",
    "  end\n",
    "\n",
    "  def Stockdb.new_database (stockpath, newdb)\n",
    "    @path = Dir.pwd\n",
    "    @table = CSV.read(File.open(stockpath), headers: true, col_sep: \"\\t\")\n",
    "    newstock = @table\n",
    "    newstock.each { |row| #Iterating over each row\n",
    "      row[4] = (row[4].to_i - 7) # Substraction from Grams_Remaining\n",
    "      if row[4] <= 0 # return error message if value equal or < 0\n",
    "        row[4]=0\n",
    "        $stderr.puts \"WARNING: we have run out of Seed Stock #{row[0]}\"\n",
    "      end\n",
    "    }\n",
    "    CSV.open(\"#{@path}/#{newdb}\", 'w', col_sep: \"\\t\") do |tsv| #Creating file to save new data in pwd\n",
    "      tsv << newstock.headers #saving headers\n",
    "      newstock.each { |row| tsv << row } #saving modified rows\n",
    "    end\n",
    "    return newstock\n",
    "  end\n",
    "  \n",
    "  #https://www.toptal.com/ruby/ruby-metaprogramming-cooler-than-it-sounds\n",
    "\n",
    "end\n",
    "\n",
    "#Testing \n",
    "#prueba2 = Stockdb.load_file(stockpath: \"/files/seed_stock_data.tsv\")\n",
    "#prueba = Stockdb.new_database(\"/home/osboxes/bioinfogit/bioinfo_Chals/seed_stock_data.tsv\", 'newstock.tsv')\n",
    "#prueba2.get_Seed_Stock('A348')\n",
    "#stock.get_Mutant_Gene_ID('AT5G20240')\n",
    "\n",
    "#puts stock.new_database('newstock.tsv')\n"
   ]
  },
  {
   "cell_type": "code",
   "execution_count": 11,
   "id": "6d7b5e5e",
   "metadata": {},
   "outputs": [
    {
     "data": {
      "text/plain": [
       ":load_stock"
      ]
     },
     "execution_count": 11,
     "metadata": {},
     "output_type": "execute_result"
    }
   ],
   "source": [
    "class Stock_database\n",
    "  attr_accessor :seed_stock\n",
    "  attr_accessor :mutant_gene_id\n",
    "  attr_accessor :last_planted\n",
    "  attr_accessor :storage\n",
    "  attr_accessor :grams_remaining\n",
    "\n",
    "  def initialize(seed_stock:, mutant_gene_id:, last_planted:,storage:,grams_remaining:)\n",
    "      @seed_stock = seed_stock\n",
    "      @mutant_gene_id = mutant_gene_id\n",
    "      @last_planted = last_planted\n",
    "      @storage = storage\n",
    "      @grams_remaining = grams_remaining  \n",
    "  end\n",
    "\n",
    "  def Stock_database.load_stock (stockpath:)\n",
    "    unless File.file?(stockpath)                # Check if file exists\n",
    "      return \"This file path does not exist\"\n",
    "    else\n",
    "      stock_array = CSV.open(stockpath, col_sep: \"\\t\", headers:true).read\n",
    "      stock_object_list = Array.new  ## Empty array created to append gene objects.\n",
    "\n",
    "      # Conversion of genes into Gene objects\n",
    "      stock_array.each do |stock|\n",
    "        stock_object = Stock_database.new(seed_stock: stock[0],\n",
    "          mutant_gene_id: stock[1],last_planted: stock[2], \n",
    "          storage: stock[3], grams_remaining: stock[4])\n",
    "        stock_object_list << stock_object\n",
    "      end\n",
    "      @@objects = stock_object_list\n",
    "      return stock_object_list\n",
    "    end\n",
    "  end\n",
    "end"
   ]
  },
  {
   "cell_type": "code",
   "execution_count": null,
   "id": "fe19c622",
   "metadata": {},
   "outputs": [],
   "source": [
    "Stock_database."
   ]
  }
 ],
 "metadata": {
  "kernelspec": {
   "display_name": "Ruby 3.0.0",
   "language": "ruby",
   "name": "ruby"
  },
  "language_info": {
   "file_extension": ".rb",
   "mimetype": "application/x-ruby",
   "name": "ruby",
   "version": "3.0.0"
  }
 },
 "nbformat": 4,
 "nbformat_minor": 5
}
