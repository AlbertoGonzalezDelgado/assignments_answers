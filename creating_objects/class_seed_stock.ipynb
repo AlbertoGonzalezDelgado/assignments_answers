{
 "cells": [
  {
   "cell_type": "code",
   "execution_count": 353,
   "id": "347c1413",
   "metadata": {},
   "outputs": [
    {
     "name": "stdout",
     "output_type": "stream",
     "text": [
      "Seed_Stock,Mutant_Gene_ID,Last_Planted,Storage,Grams_Remaining\n",
      "A348,AT4G36920,3/11/2013,cama25,12\n",
      "A51,AT1G30950,9/2/2013,cama25,5\n"
     ]
    },
    {
     "data": {
      "text/plain": [
       "[\"Seed_Stock\", \"Mutant_Gene_ID\", \"Last_Planted\", \"Storage\", \"Grams_Remaining\"]"
      ]
     },
     "execution_count": 353,
     "metadata": {},
     "output_type": "execute_result"
    }
   ],
   "source": [
    "class Stockdatabase\n",
    "  require 'csv'\n",
    "  attr_accessor :table\n",
    "  attr_accessor :headers\n",
    "  attr_accessor :path\n",
    "  attr_accessor :stockpath\n",
    "  \n",
    "  def initialize (stockpath:)\n",
    "    unless File.file?(stockpath)\n",
    "      return (\"File doesn't exist\")\n",
    "    else\n",
    "      @path = Dir.pwd # Current working directory\n",
    "      @stockpath = stockpath # Seed_stock_data.tsv path\n",
    "      @table = CSV.read(File.open(stockpath), headers: true, col_sep: \"\\t\") # Importing stockfile as table\n",
    "      @headers = table.headers\n",
    "    end\n",
    "  end\n",
    "\n",
    "\n",
    "\n",
    "  def new_database (database)\n",
    "    path = @path\n",
    "    newstock = @table\n",
    "    newstock.each { |row| #Iterating over each row\n",
    "      row[4] = (row[4].to_i - 7) # Substraction of input from Grams_Remaining\n",
    "      if row[4] <= 0 # return error message if value < 0\n",
    "        row[4]=0\n",
    "        $stderr.puts \"WARNING: we have run out of Seed Stock #{row[0]}\"\n",
    "      end\n",
    "    }\n",
    "    CSV.open(\"#{path}/#{database}\", 'w', col_sep: \"\\t\") do |tsv| #Creating file to save new data in pwd\n",
    "      tsv << newstock.headers\n",
    "      newstock.each { |row| tsv << row }\n",
    "    end\n",
    "    return newstock\n",
    "  end\n",
    "  \n",
    "  [\"Seed_Stock\", \"Mutant_Gene_ID\", \"Last_Planted\", \"Storage\", \"Grams_Remaining\"].each do |header|\n",
    "    define_method \"get_#{header}\" do |match|\n",
    "        col = @table[header]\n",
    "        index = col.each_index.select{|x| col[x] == match}\n",
    "        puts @headers.join(',')\n",
    "        index.each { |i| puts \"#{@table[i]}\" }\n",
    "    end\n",
    "  end\n",
    "    \n",
    "  \n",
    "  def get (header, match) # data accession function\n",
    "    headers = @headers\n",
    "    unless headers.include?(header)\n",
    "      fail \"no header #{header} found in stock_data\"\n",
    "    else\n",
    "      col = @table[header]\n",
    "      index = col.each_index.select{|x| col[x] == match}\n",
    "      out = index.each { |i| puts \"#{@table[i]}\"}\n",
    "    end  \n",
    "    return \n",
    "  end\n",
    "    \n",
    "end\n",
    "\n",
    "#Testing\n",
    "#stock = Stockdatabase.new(stockpath: \"/home/osboxes/bioinfogit/bioinfo_Chals/seed_stock_data.tsv\")\n",
    "#stock.get_Storage('cama25')\n",
    "#puts stock.table\n",
    "#puts stock.new_database('newstock.tsv')\n",
    "#stock.headers"
   ]
  }
 ],
 "metadata": {
  "kernelspec": {
   "display_name": "Ruby 3.0.0",
   "language": "ruby",
   "name": "ruby"
  },
  "language_info": {
   "file_extension": ".rb",
   "mimetype": "application/x-ruby",
   "name": "ruby",
   "version": "3.0.0"
  }
 },
 "nbformat": 4,
 "nbformat_minor": 5
}
