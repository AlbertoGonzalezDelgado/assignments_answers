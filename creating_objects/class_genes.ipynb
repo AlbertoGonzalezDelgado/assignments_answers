{
 "cells": [
  {
   "cell_type": "code",
   "execution_count": 5,
   "id": "dc435480",
   "metadata": {},
   "outputs": [
    {
     "name": "stdout",
     "output_type": "stream",
     "text": [
      "AT3G54213\n",
      "Important gene 2\n",
      "2\n"
     ]
    }
   ],
   "source": [
    "require 'csv'\n",
    "\n",
    "class Genes\n",
    "  attr_accessor :gene_ID\n",
    "  attr_accessor :gene_name\n",
    "  attr_accessor :mutant_phenotype\n",
    "  @@number_of_genes = 0\n",
    "\n",
    "  def initialize(gene_ID:, gene_name:, mutant_phenotype:)\n",
    "    @gene_ID = gene_ID\n",
    "    @gene_name = gene_name\n",
    "    @mutant_phenotype = mutant_phenotype\n",
    "    @@number_of_genes += 1\n",
    "    \n",
    "    # Checking if the gene format is correct\n",
    "    unless gene_ID.match(/A[Tt]\\d[Gg]\\d\\d\\d\\d\\d/)\n",
    "      abort(\"FATAL ERROR: #{gene_ID} format is not correct. The format should be /A[Tt]\\d[Gg]\\d\\d\\d\\d\\d/\")\n",
    "    end\n",
    "  end\n",
    "  \n",
    "  def Genes.how_many()\n",
    "    return @@number_of_genes\n",
    "  end\n",
    "  \n",
    "  def Genes.load_genes(filepath:)\n",
    "    unless File.file?(filepath)                # Check if file exists\n",
    "      return \"This file path does not exist\"\n",
    "    else\n",
    "      gene_array = CSV.open(filepath, col_sep: \"\\t\", headers:true).read\n",
    "      gene_object_list = Array.new  ## Empty array created to append gene objects.\n",
    "\n",
    "      # Conversion of genes into Gene objects\n",
    "      gene_array.each do |gene|\n",
    "        gene_object = Genes.new(gene_ID: gene[0],gene_name: gene[1],mutant_phenotype: gene[2])\n",
    "        gene_object_list << gene_object\n",
    "      end\n",
    "      return gene_object_list\n",
    "    end \n",
    "  end\n",
    "  '''\n",
    "  Using CSV, we open the gene file and read it as a table format using read method. We iterate each row \n",
    "  create a Gene object for each gene, converting each feature of the tsv file into an instance attribute.\n",
    "  '''\n",
    "  gene1 = Genes.new(gene_ID: \"AT3G54213\", gene_name:\"Important gene\", mutant_phenotype:\"Example phenotype\" )\n",
    "  gene2 = Genes.new(gene_ID: \"AT3G54243\", gene_name:\"Important gene 2\", mutant_phenotype:\"Example phenotype\" )\n",
    "  puts gene1.gene_ID\n",
    "  puts gene2.gene_name\n",
    "  puts Genes.how_many\n",
    "end\n"
   ]
  },
  {
   "cell_type": "code",
   "execution_count": 20,
   "id": "e157e073",
   "metadata": {},
   "outputs": [
    {
     "data": {
      "text/plain": [
       "[#<#<Class:0x000055f7c68088b0>::Genes:0x000055f7c70af310 @gene_ID=\"AT1G69120\", @gene_name=\"ap1\", @mutant_phenotype=\"meristems replace first and second whorl\">, #<#<Class:0x000055f7c68088b0>::Genes:0x000055f7c70af158 @gene_ID=\"AT4G36920\", @gene_name=\"ap2\", @mutant_phenotype=\"first whorl carpels, second whorl stamens\">, #<#<Class:0x000055f7c68088b0>::Genes:0x000055f7c70aef78 @gene_ID=\"AT3G54340\", @gene_name=\"ap3\", @mutant_phenotype=\"second whorl sepals, third whorl carpels\">, #<#<Class:0x000055f7c68088b0>::Genes:0x000055f7c70aedc0 @gene_ID=\"AT1G30950\", @gene_name=\"ufo\", @mutant_phenotype=\"second whorl sepaloidy, third whorl missing or carpeloid\">, #<#<Class:0x000055f7c68088b0>::Genes:0x000055f7c70aebb8 @gene_ID=\"AT5G20240\", @gene_name=\"pi\", @mutant_phenotype=\"second whorl sepals, third whorl carpels\">]"
      ]
     },
     "execution_count": 20,
     "metadata": {},
     "output_type": "execute_result"
    }
   ],
   "source": [
    "list = Genes.load_genes(filepath: \"./files/gene_information.tsv\")"
   ]
  },
  {
   "cell_type": "code",
   "execution_count": 23,
   "id": "b324550a",
   "metadata": {},
   "outputs": [
    {
     "data": {
      "text/plain": [
       "\"AT3G54340\""
      ]
     },
     "execution_count": 23,
     "metadata": {},
     "output_type": "execute_result"
    }
   ],
   "source": [
    "list[2].gene_ID"
   ]
  },
  {
   "cell_type": "code",
   "execution_count": null,
   "id": "6c4af24e",
   "metadata": {},
   "outputs": [],
   "source": []
  }
 ],
 "metadata": {
  "kernelspec": {
   "display_name": "Ruby 3.0.0",
   "language": "ruby",
   "name": "ruby"
  },
  "language_info": {
   "file_extension": ".rb",
   "mimetype": "application/x-ruby",
   "name": "ruby",
   "version": "3.0.0"
  }
 },
 "nbformat": 4,
 "nbformat_minor": 5
}
