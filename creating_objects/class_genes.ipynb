{
 "cells": [
  {
   "cell_type": "code",
   "execution_count": 359,
   "id": "dc435480",
   "metadata": {},
   "outputs": [
    {
     "data": {
      "text/plain": [
       ":load_file"
      ]
     },
     "execution_count": 359,
     "metadata": {},
     "output_type": "execute_result"
    }
   ],
   "source": [
    "require 'csv'\n",
    "\n",
    "class Genes\n",
    "  attr_accessor :gene_ID\n",
    "  attr_accessor :gene_name\n",
    "  attr_accessor :mutant_phenotype\n",
    "  \n",
    "  def initialize(gene_ID:, gene_name:, mutant_phenotype:)\n",
    "    @gene_ID = gene_ID\n",
    "    @gene_name = gene_name\n",
    "    @mutant_phenotype = mutant_phenotype\n",
    "  end\n",
    "  \n",
    "\n",
    "  \n",
    "  def Genes.load_genes(filepath:)\n",
    "    unless File.file?(filepath)                # Check if file exists\n",
    "      return \"This file path does not exist\"\n",
    "    else\n",
    "      gene_array = CSV.open(filepath, col_sep: \"\\t\", headers:true).read\n",
    "      gene_object_list = Array.new  ## Empty array created to append gene objects.\n",
    "\n",
    "      # Conversion of genes into Gene objects\n",
    "      gene_array.each do |gene|\n",
    "        gene_object = Genes.new(gene_ID: gene[0],gene_name: gene[1],mutant_phenotype: gene[2])\n",
    "        gene_object_list << gene_object\n",
    "      end\n",
    "      return gene_object_list\n",
    "    end \n",
    "  end\n",
    "  '''\n",
    "  Using CSV, we open the gene file and read it as a table format using read method. We iterate each row \n",
    "  create a Gene object for each gene, converting each feature of the tsv file into an instance attribute.\n",
    "  '''\n",
    "\n",
    "  def Genes.load_file(file_path:)      ## Este método qué hace ?\n",
    "    return unless File.exists?(\"File does not exists\")\n",
    "    @file=CSV.parse(File.read(file_path),header=True)\n",
    "    puts file\n",
    "    puts ''\n",
    "    puts file_path\n",
    "    \n",
    "  end  \n",
    "  \n",
    "end\n"
   ]
  },
  {
   "cell_type": "code",
   "execution_count": 357,
   "id": "e157e073",
   "metadata": {},
   "outputs": [
    {
     "name": "stdout",
     "output_type": "stream",
     "text": [
      "This file path does not exist"
     ]
    }
   ],
   "source": [
    "print Genes.load_genes(filepath: \"./files/gene_information.tsv\")"
   ]
  },
  {
   "cell_type": "code",
   "execution_count": null,
   "id": "b324550a",
   "metadata": {},
   "outputs": [],
   "source": []
  },
  {
   "cell_type": "code",
   "execution_count": null,
   "id": "6c4af24e",
   "metadata": {},
   "outputs": [],
   "source": []
  }
 ],
 "metadata": {
  "kernelspec": {
   "display_name": "Ruby 3.0.0",
   "language": "ruby",
   "name": "ruby"
  },
  "language_info": {
   "file_extension": ".rb",
   "mimetype": "application/x-ruby",
   "name": "ruby",
   "version": "3.0.0"
  }
 },
 "nbformat": 4,
 "nbformat_minor": 5
}
