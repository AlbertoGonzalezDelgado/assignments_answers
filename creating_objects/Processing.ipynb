{
 "cells": [
  {
   "cell_type": "code",
   "execution_count": null,
   "id": "6e9c24b6",
   "metadata": {},
   "outputs": [],
   "source": [
    "\n",
    "# Importing required classes (\"path to classes\")\n",
    "require './class_cross_data.rb'\n",
    "require './class_seed_stock.rb'\n",
    "require './class_genes.rb'\n",
    "\n",
    "# https://stackoverflow.com/questions/28488422/how-to-check-the-number-of-arguments-passed-with-a-ruby-script \n",
    "# How to access to arguments in ruby\n",
    "\n",
    "#Checking if the arguments required are specified \n",
    "if ARGV.length != 4 then # Paths to classes are required as arguments?\n",
    "    abort(\"Files pathways are required\")\n",
    "end\n",
    "\n",
    "seed_stock_file=ARGV[0]\n",
    "gene_file=ARGV[1]\n",
    "cross_data_file=ARGV[2]\n",
    "output=ARGV[3]\n",
    "\n",
    "\n",
    "# Accessing to grams remaining of each kind of seed and simulating planting 7 grams\n",
    "puts 'Planting 7 g of seeds'\n",
    "stock=Stockdatabase.new(\"#{ARGV[3]}\")\n",
    "sleep 1\n",
    "puts '...'\n",
    "sleep 1\n",
    "puts '...'\n",
    "stock.new_database(ARGV[3]) # The output is a table where the grams of seed remains and the last date of plant is contained\n",
    "puts ''\n",
    "puts ''\n",
    "\n",
    "#Obtaining genes from seeds plainted\n",
    "puts 'The genes planted are:'\n",
    "puts \"#{ARGV[3]}[\"Gene_ID\"]\"\n",
    "puts ''\n",
    "puts ''\n",
    "puts ''"
   ]
  }
 ],
 "metadata": {
  "kernelspec": {
   "display_name": "Ruby 3.0.0",
   "language": "ruby",
   "name": "ruby"
  },
  "language_info": {
   "file_extension": ".rb",
   "mimetype": "application/x-ruby",
   "name": "ruby",
   "version": "3.0.0"
  }
 },
 "nbformat": 4,
 "nbformat_minor": 5
}
