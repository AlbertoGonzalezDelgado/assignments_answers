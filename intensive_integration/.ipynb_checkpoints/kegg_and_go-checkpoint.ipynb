{
 "cells": [
  {
   "cell_type": "markdown",
   "id": "1cb3e9bf",
   "metadata": {},
   "source": [
    "### He intentado hacerlo con esta funcion del profesor pero no me funciona"
   ]
  },
  {
   "cell_type": "code",
   "execution_count": 11,
   "id": "f7ca85bd",
   "metadata": {},
   "outputs": [
    {
     "data": {
      "text/plain": [
       ":fetch"
      ]
     },
     "execution_count": 11,
     "metadata": {},
     "output_type": "execute_result"
    }
   ],
   "source": [
    "require 'rest-client'  \n",
    "\n",
    "# Create a function called \"fetch\" that we can re-use everywhere in our code\n",
    "\n",
    "def fetch(url:, headers: {accept: \"*/*\"}, user: \"\", pass: \"\")\n",
    "  response = RestClient::Request.execute({\n",
    "    method: :get,\n",
    "    url: url.to_s,\n",
    "    user: user,\n",
    "    password: pass,\n",
    "    headers: headers})\n",
    "  return response\n",
    "  \n",
    "  rescue RestClient::ExceptionWithResponse => e\n",
    "    $stderr.puts e.inspect\n",
    "    response = false\n",
    "    return response  # now we are returning 'False', and we will check that with an \\\"if\\\" statement in our main code\n",
    "  rescue RestClient::Exception => e\n",
    "    $stderr.puts e.inspect\n",
    "    response = false\n",
    "    return response  # now we are returning 'False', and we will check that with an \\\"if\\\" statement in our main code\n",
    "  rescue Exception => e\n",
    "    $stderr.puts e.inspect\n",
    "    response = false\n",
    "    return response  # now we are returning 'False', and we will check that with an \\\"if\\\" statement in our main code\n",
    "end "
   ]
  },
  {
   "cell_type": "code",
   "execution_count": 114,
   "id": "707f6c9f",
   "metadata": {},
   "outputs": [
    {
     "ename": "LocalJumpError",
     "evalue": "unexpected return",
     "output_type": "error",
     "traceback": [
      "\u001b[31mLocalJumpError\u001b[0m: unexpected return",
      "(irb):8:in `<main>'"
     ]
    }
   ],
   "source": [
    "require 'rest-client'\n",
    "require 'json'  # to handle JSON format\n",
    "\n",
    "gene_id=\"AT4g27030\"\n",
    " \n",
    "go_terms={}\n",
    "fetched_data = fetch(url: \"http://togows.dbcls.jp/entry/uniprot/#{gene_id}/dr.json\")\n",
    "data = JSON.parse(fetched_data.body)[0] #So as not to get a [{}]\n",
    "return data"
   ]
  },
  {
   "cell_type": "markdown",
   "id": "63eadb80",
   "metadata": {},
   "source": [
    "# GO terms"
   ]
  },
  {
   "cell_type": "code",
   "execution_count": 110,
   "id": "0951b1f2",
   "metadata": {},
   "outputs": [
    {
     "data": {
      "text/plain": [
       "[\"0009507\", \"0031969\", \"0016021\", \"0102654\", \"0102851\", \"0052637\", \"0046471\", \"0006636\", \"0016021\", \"0005524\", \"0004674\", \"0006468\", \"0031969\", \"0016021\", \"0102654\", \"0052637\", \"0046471\", \"0006636\", \"0016021\", \"0006631\"]"
      ]
     },
     "execution_count": 110,
     "metadata": {},
     "output_type": "execute_result"
    }
   ],
   "source": [
    "address =\"http://togows.dbcls.jp/entry/uniprot/#{gene_id}/dr.json\"\n",
    "response = RestClient::Request.execute(  #  or you can use the 'fetch' function we created last class\n",
    "  method: :get,\n",
    "  url: address)  \n",
    "go_terms=[]\n",
    "response.body.split(/\\n/).grep(/GO/).each do |go|\n",
    "#si hago split con ] se returnea una lista con todas las funciones etc etc si hago split con new line\n",
    "#se returnea solo los go\n",
    "\n",
    " go_terms << go.split(/\\\",/)[0].split(/\\:/)[1].gsub(\"[\",\"\")\n",
    "end\n",
    "go_terms=go_terms[1..go_terms.length] #Removing first empty line\n",
    "\n",
    "\n",
    "\n",
    "\n",
    "#\n",
    "#Sinceramente no se si el principio queda vacío como eliminiarlo se supone que el gsub del final lo elimina\n",
    "#Source: https://stackoverflow.com/questions/7339292/ruby-remove-empty-lines-from-string\n",
    "#Lo he intentado con el gsub y .delete(\"[\").gsub(/^$\\n/, '')\n",
    "#La unica manera que he encontrao es la que hago"
   ]
  },
  {
   "cell_type": "code",
   "execution_count": 111,
   "id": "c398f5d3",
   "metadata": {},
   "outputs": [
    {
     "name": "stdout",
     "output_type": "stream",
     "text": [
      "0009507\n",
      "0031969\n",
      "0016021\n",
      "0102654\n",
      "0102851\n",
      "0052637\n",
      "0046471\n",
      "0006636\n",
      "0016021\n",
      "0005524\n",
      "0004674\n",
      "0006468\n",
      "0031969\n",
      "0016021\n",
      "0102654\n",
      "0052637\n",
      "0046471\n",
      "0006636\n",
      "0016021\n",
      "0006631\n"
     ]
    }
   ],
   "source": [
    "puts go_terms"
   ]
  },
  {
   "cell_type": "markdown",
   "id": "79b7ce97",
   "metadata": {},
   "source": [
    "# KEGG"
   ]
  },
  {
   "cell_type": "code",
   "execution_count": 118,
   "id": "734f3c47",
   "metadata": {},
   "outputs": [
    {
     "name": "stdout",
     "output_type": "stream",
     "text": [
      "[\n",
      "  {\n",
      "  }\n",
      "]\n"
     ]
    }
   ],
   "source": [
    "gene_id=\"AT4g27030\"\n",
    "address =\"http://togows.org/entry/kegg-genes/ath:#{gene_id}/pathways.json\"\n",
    "response = RestClient::Request.execute(  #  or you can use the 'fetch' function we created last class\n",
    "  method: :get,\n",
    "  url: address)  \n",
    "kegg_terms=[]\n",
    "puts response.body"
   ]
  }
 ],
 "metadata": {
  "kernelspec": {
   "display_name": "Ruby 3.0.0",
   "language": "ruby",
   "name": "ruby"
  },
  "language_info": {
   "file_extension": ".rb",
   "mimetype": "application/x-ruby",
   "name": "ruby",
   "version": "3.0.0"
  }
 },
 "nbformat": 4,
 "nbformat_minor": 5
}
