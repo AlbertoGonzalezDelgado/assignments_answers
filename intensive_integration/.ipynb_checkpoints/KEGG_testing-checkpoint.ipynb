{
 "cells": [
  {
   "cell_type": "code",
   "execution_count": 2,
   "id": "e94883e6",
   "metadata": {},
   "outputs": [
    {
     "data": {
      "text/plain": [
       ":fetch"
      ]
     },
     "execution_count": 2,
     "metadata": {},
     "output_type": "execute_result"
    }
   ],
   "source": [
    "require 'rest-client'  \n",
    "\n",
    "# Create a function called \"fetch\" that we can re-use everywhere in our code\n",
    "\n",
    "def fetch(url:, headers: {accept: \"*/*\"}, user: \"\", pass: \"\")\n",
    "  response = RestClient::Request.execute({\n",
    "    method: :get,\n",
    "    url: url.to_s,\n",
    "    user: user,\n",
    "    password: pass,\n",
    "    headers: headers})\n",
    "  return response\n",
    "  \n",
    "  rescue RestClient::ExceptionWithResponse => e\n",
    "    $stderr.puts e.inspect\n",
    "    response = false\n",
    "    return response  # now we are returning 'False', and we will check that with an \\\"if\\\" statement in our main code\n",
    "  rescue RestClient::Exception => e\n",
    "    $stderr.puts e.inspect\n",
    "    response = false\n",
    "    return response  # now we are returning 'False', and we will check that with an \\\"if\\\" statement in our main code\n",
    "  rescue Exception => e\n",
    "    $stderr.puts e.inspect\n",
    "    response = false\n",
    "    return response  # now we are returning 'False', and we will check that with an \\\"if\\\" statement in our main code\n",
    "end "
   ]
  },
  {
   "cell_type": "code",
   "execution_count": 3,
   "id": "8480c508",
   "metadata": {},
   "outputs": [
    {
     "name": "stdout",
     "output_type": "stream",
     "text": [
      "[\n",
      "  {\n",
      "  }\n",
      "]\n"
     ]
    }
   ],
   "source": [
    "gene_id=\"AT4g27030\"\n",
    "address =\"http://togows.org/entry/kegg-genes/ath:#{gene_id}/pathways.json\"\n",
    "response = RestClient::Request.execute(  #  or you can use the 'fetch' function we created last class\n",
    "  method: :get,\n",
    "  url: address)  \n",
    "kegg_terms=[]\n",
    "puts response.body"
   ]
  },
  {
   "cell_type": "code",
   "execution_count": null,
   "id": "a18ab445",
   "metadata": {},
   "outputs": [],
   "source": []
  }
 ],
 "metadata": {
  "kernelspec": {
   "display_name": "Ruby 3.0.0",
   "language": "ruby",
   "name": "ruby"
  },
  "language_info": {
   "file_extension": ".rb",
   "mimetype": "application/x-ruby",
   "name": "ruby",
   "version": "3.0.0"
  }
 },
 "nbformat": 4,
 "nbformat_minor": 5
}
