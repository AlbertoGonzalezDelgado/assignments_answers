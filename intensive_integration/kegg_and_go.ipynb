{
 "cells": [
  {
   "cell_type": "markdown",
   "id": "1cb3e9bf",
   "metadata": {},
   "source": [
    "### He intentado hacerlo con esta funcion del profesor pero no me funciona"
   ]
  },
  {
   "cell_type": "code",
   "execution_count": 11,
   "id": "f7ca85bd",
   "metadata": {},
   "outputs": [
    {
     "data": {
      "text/plain": [
       ":fetch"
      ]
     },
     "execution_count": 11,
     "metadata": {},
     "output_type": "execute_result"
    }
   ],
   "source": [
    "require 'rest-client'  \n",
    "\n",
    "# Create a function called \"fetch\" that we can re-use everywhere in our code\n",
    "\n",
    "def fetch(url:, headers: {accept: \"*/*\"}, user: \"\", pass: \"\")\n",
    "  response = RestClient::Request.execute({\n",
    "    method: :get,\n",
    "    url: url.to_s,\n",
    "    user: user,\n",
    "    password: pass,\n",
    "    headers: headers})\n",
    "  return response\n",
    "  \n",
    "  rescue RestClient::ExceptionWithResponse => e\n",
    "    $stderr.puts e.inspect\n",
    "    response = false\n",
    "    return response  # now we are returning 'False', and we will check that with an \\\"if\\\" statement in our main code\n",
    "  rescue RestClient::Exception => e\n",
    "    $stderr.puts e.inspect\n",
    "    response = false\n",
    "    return response  # now we are returning 'False', and we will check that with an \\\"if\\\" statement in our main code\n",
    "  rescue Exception => e\n",
    "    $stderr.puts e.inspect\n",
    "    response = false\n",
    "    return response  # now we are returning 'False', and we will check that with an \\\"if\\\" statement in our main code\n",
    "end "
   ]
  },
  {
   "cell_type": "code",
   "execution_count": 64,
   "id": "707f6c9f",
   "metadata": {},
   "outputs": [
    {
     "ename": "NoMethodError",
     "evalue": "undefined method `fetch' for #<Object:0x0000558b9340c058 @prompt={:PROMPT_I=>\"3.0.0 :%03n > \", :PROMPT_S=>\"3.0.0 :%03n%l> \", :PROMPT_C=>\"3.0.0 :%03n > \", :PROMPT_N=>\"3.0.0 :%03n?> \", :RETURN=>\" => %s \\n\", :AUTO_INDENT=>true}>",
     "output_type": "error",
     "traceback": [
      "\u001b[31mNoMethodError\u001b[0m: undefined method `fetch' for #<Object:0x0000558b9340c058 @prompt={:PROMPT_I=>\"3.0.0 :%03n > \", :PROMPT_S=>\"3.0.0 :%03n%l> \", :PROMPT_C=>\"3.0.0 :%03n > \", :PROMPT_N=>\"3.0.0 :%03n?> \", :RETURN=>\" => %s \\n\", :AUTO_INDENT=>true}>",
      "(irb):6:in `<main>'"
     ]
    }
   ],
   "source": [
    "require 'rest-client'\n",
    "require 'json'  # to handle JSON format\n",
    "\n",
    "gene_id=\"AT2g21330\"\n",
    " \n",
    "go_terms={}\n",
    "fetched_data = fetch(url: \"http://togows.dbcls.jp/entry/uniprot/#{gene_id}/dr.json\")\n",
    "data = JSON.parse(fetched_data.body)[0] #So as not to get a [{}]\n",
    "return data"
   ]
  },
  {
   "cell_type": "markdown",
   "id": "63eadb80",
   "metadata": {},
   "source": [
    "# GO terms"
   ]
  },
  {
   "cell_type": "code",
   "execution_count": 65,
   "id": "0951b1f2",
   "metadata": {},
   "outputs": [
    {
     "data": {
      "text/plain": [
       "[\"\\n        \\\"GO:0048046\\\",\\n        \\\"C:apoplast\\\",\\n        \\\"HDA:TAIR\\\"\\n      ],\\n      \", \"\\n        \\\"GO:0009507\\\",\\n        \\\"C:chloroplast\\\",\\n        \\\"IDA:TAIR\\\"\\n      ],\\n      \", \"\\n        \\\"GO:0009941\\\",\\n        \\\"C:chloroplast envelope\\\",\\n        \\\"HDA:TAIR\\\"\\n      ],\\n      \", \"\\n        \\\"GO:0009570\\\",\\n        \\\"C:chloroplast stroma\\\",\\n        \\\"HDA:TAIR\\\"\\n      ],\\n      \", \"\\n        \\\"GO:0009534\\\",\\n        \\\"C:chloroplast thylakoid\\\",\\n        \\\"HDA:TAIR\\\"\\n      ],\\n      \", \"\\n        \\\"GO:0005829\\\",\\n        \\\"C:cytosol\\\",\\n        \\\"IBA:GO_Central\\\"\\n      ],\\n      \", \"\\n        \\\"GO:0022626\\\",\\n        \\\"C:cytosolic ribosome\\\",\\n        \\\"HDA:TAIR\\\"\\n      ],\\n      \", \"\\n        \\\"GO:0005739\\\",\\n        \\\"C:mitochondrion\\\",\\n        \\\"IDA:TAIR\\\"\\n      ],\\n      \", \"\\n        \\\"GO:0010287\\\",\\n        \\\"C:plastoglobule\\\",\\n        \\\"HDA:TAIR\\\"\\n      ],\\n      \", \"\\n        \\\"GO:0009579\\\",\\n        \\\"C:thylakoid\\\",\\n        \\\"HDA:TAIR\\\"\\n      ],\\n      \", \"\\n        \\\"GO:0031977\\\",\\n        \\\"C:thylakoid lumen\\\",\\n        \\\"HDA:TAIR\\\"\\n      ],\\n      \", \"\\n        \\\"GO:0004332\\\",\\n        \\\"F:fructose-bisphosphate aldolase activity\\\",\\n        \\\"ISS:UniProtKB\\\"\\n      ],\\n      \", \"\\n        \\\"GO:0030388\\\",\\n        \\\"P:fructose 1,6-bisphosphate metabolic process\\\",\\n        \\\"IBA:GO_Central\\\"\\n      ],\\n      \", \"\\n        \\\"GO:0006094\\\",\\n        \\\"P:gluconeogenesis\\\",\\n        \\\"ISS:UniProtKB\\\"\\n      ],\\n      \", \"\\n        \\\"GO:0006096\\\",\\n        \\\"P:glycolytic process\\\",\\n        \\\"ISS:UniProtKB\\\"\\n      ],\\n      \", \"\\n        \\\"GO:0004332\\\",\\n        \\\"F:fructose-bisphosphate aldolase activity\\\",\\n        \\\"IEA:UniProtKB-EC\\\"\\n      ],\\n      \", \"\\n        \\\"GO:0006096\\\",\\n        \\\"P:glycolytic process\\\",\\n        \\\"IEA:UniProtKB-UniPathway\\\"\\n      ],\\n      \", \"\\n        \\\"GO:0004332\\\",\\n        \\\"F:fructose-bisphosphate aldolase activity\\\",\\n        \\\"IEA:UniProtKB-EC\\\"\\n      ],\\n      \", \"\\n        \\\"GO:0006096\\\",\\n        \\\"P:glycolytic process\\\",\\n        \\\"IEA:UniProtKB-UniPathway\\\"\\n      ],\\n      \", \"\\n        \\\"GO:0004332\\\",\\n        \\\"F:fructose-bisphosphate aldolase activity\\\",\\n        \\\"IEA:UniProtKB-EC\\\"\\n      ],\\n      \", \"\\n        \\\"GO:0006096\\\",\\n        \\\"P:glycolytic process\\\",\\n        \\\"IEA:UniProtKB-UniPathway\\\"\\n      ],\\n      \", \"\\n        \\\"GO:0004332\\\",\\n        \\\"F:fructose-bisphosphate aldolase activity\\\",\\n        \\\"IEA:UniProtKB-EC\\\"\\n      ],\\n      \", \"\\n        \\\"GO:0006096\\\",\\n        \\\"P:glycolytic process\\\",\\n        \\\"IEA:UniProtKB-UniPathway\\\"\\n      ],\\n      \", \"\\n        \\\"GO:0016021\\\",\\n        \\\"C:integral component of membrane\\\",\\n        \\\"IEA:UniProtKB-KW\\\"\\n      ],\\n      \", \"\\n        \\\"GO:0005886\\\",\\n        \\\"C:plasma membrane\\\",\\n        \\\"IEA:UniProtKB-SubCell\\\"\\n      ],\\n      \", \"\\n        \\\"GO:0016760\\\",\\n        \\\"F:cellulose synthase (UDP-forming) activity\\\",\\n        \\\"IEA:UniProtKB-EC\\\"\\n      ],\\n      \", \"\\n        \\\"GO:0046872\\\",\\n        \\\"F:metal ion binding\\\",\\n        \\\"IEA:UniProtKB-KW\\\"\\n      ],\\n      \", \"\\n        \\\"GO:0071555\\\",\\n        \\\"P:cell wall organization\\\",\\n        \\\"IEA:UniProtKB-KW\\\"\\n      ],\\n      \", \"\\n        \\\"GO:0030244\\\",\\n        \\\"P:cellulose biosynthetic process\\\",\\n        \\\"IEA:UniProtKB-KW\\\"\\n      ],\\n      \", \"\\n        \\\"GO:0004332\\\",\\n        \\\"F:fructose-bisphosphate aldolase activity\\\",\\n        \\\"IEA:UniProtKB-EC\\\"\\n      ],\\n      \", \"\\n        \\\"GO:0006096\\\",\\n        \\\"P:glycolytic process\\\",\\n        \\\"IEA:UniProtKB-UniPathway\\\"\\n      ]\\n    ],\\n    \\\"Gene3D\\\": \"]"
      ]
     },
     "execution_count": 65,
     "metadata": {},
     "output_type": "execute_result"
    }
   ],
   "source": [
    "address =\"http://togows.dbcls.jp/entry/uniprot/#{gene_id}/dr.json\"\n",
    "response = RestClient::Request.execute(  #  or you can use the 'fetch' function we created last class\n",
    "  method: :get,\n",
    "  url: address) \n",
    "\n",
    "go_terms=[]\n",
    "response.body.split(/\\[/).grep(/GO/)[1..response.body.length].each do |go| # I eliminate the first row (it is like a header)\n",
    "  go_terms << {go.gsub(/\\\"/,\"\").split(/\\,/)[0].gsub(/\\n/,\"\").strip => go.gsub(/\\\"/,\"\").split(/\\,/)[1].gsub(/\\n/,\"\").strip}\n",
    "end\n"
   ]
  },
  {
   "cell_type": "code",
   "execution_count": 66,
   "id": "c398f5d3",
   "metadata": {},
   "outputs": [
    {
     "name": "stdout",
     "output_type": "stream",
     "text": [
      "{\"GO:0048046\"=>\"C:apoplast\"}\n",
      "\n",
      "{\"GO:0009507\"=>\"C:chloroplast\"}\n",
      "\n",
      "{\"GO:0009941\"=>\"C:chloroplast envelope\"}\n",
      "\n",
      "{\"GO:0009570\"=>\"C:chloroplast stroma\"}\n",
      "\n",
      "{\"GO:0009534\"=>\"C:chloroplast thylakoid\"}\n",
      "\n",
      "{\"GO:0005829\"=>\"C:cytosol\"}\n",
      "\n",
      "{\"GO:0022626\"=>\"C:cytosolic ribosome\"}\n",
      "\n",
      "{\"GO:0005739\"=>\"C:mitochondrion\"}\n",
      "\n",
      "{\"GO:0010287\"=>\"C:plastoglobule\"}\n",
      "\n",
      "{\"GO:0009579\"=>\"C:thylakoid\"}\n",
      "\n",
      "{\"GO:0031977\"=>\"C:thylakoid lumen\"}\n",
      "\n",
      "{\"GO:0004332\"=>\"F:fructose-bisphosphate aldolase activity\"}\n",
      "\n",
      "{\"GO:0030388\"=>\"P:fructose 1\"}\n",
      "\n",
      "{\"GO:0006094\"=>\"P:gluconeogenesis\"}\n",
      "\n",
      "{\"GO:0006096\"=>\"P:glycolytic process\"}\n",
      "\n",
      "{\"GO:0004332\"=>\"F:fructose-bisphosphate aldolase activity\"}\n",
      "\n",
      "{\"GO:0006096\"=>\"P:glycolytic process\"}\n",
      "\n",
      "{\"GO:0004332\"=>\"F:fructose-bisphosphate aldolase activity\"}\n",
      "\n",
      "{\"GO:0006096\"=>\"P:glycolytic process\"}\n",
      "\n",
      "{\"GO:0004332\"=>\"F:fructose-bisphosphate aldolase activity\"}\n",
      "\n",
      "{\"GO:0006096\"=>\"P:glycolytic process\"}\n",
      "\n",
      "{\"GO:0004332\"=>\"F:fructose-bisphosphate aldolase activity\"}\n",
      "\n",
      "{\"GO:0006096\"=>\"P:glycolytic process\"}\n",
      "\n",
      "{\"GO:0016021\"=>\"C:integral component of membrane\"}\n",
      "\n",
      "{\"GO:0005886\"=>\"C:plasma membrane\"}\n",
      "\n",
      "{\"GO:0016760\"=>\"F:cellulose synthase (UDP-forming) activity\"}\n",
      "\n",
      "{\"GO:0046872\"=>\"F:metal ion binding\"}\n",
      "\n",
      "{\"GO:0071555\"=>\"P:cell wall organization\"}\n",
      "\n",
      "{\"GO:0030244\"=>\"P:cellulose biosynthetic process\"}\n",
      "\n",
      "{\"GO:0004332\"=>\"F:fructose-bisphosphate aldolase activity\"}\n",
      "\n",
      "{\"GO:0006096\"=>\"P:glycolytic process\"}\n",
      "\n"
     ]
    },
    {
     "data": {
      "text/plain": [
       "[{\"GO:0048046\"=>\"C:apoplast\"}, {\"GO:0009507\"=>\"C:chloroplast\"}, {\"GO:0009941\"=>\"C:chloroplast envelope\"}, {\"GO:0009570\"=>\"C:chloroplast stroma\"}, {\"GO:0009534\"=>\"C:chloroplast thylakoid\"}, {\"GO:0005829\"=>\"C:cytosol\"}, {\"GO:0022626\"=>\"C:cytosolic ribosome\"}, {\"GO:0005739\"=>\"C:mitochondrion\"}, {\"GO:0010287\"=>\"C:plastoglobule\"}, {\"GO:0009579\"=>\"C:thylakoid\"}, {\"GO:0031977\"=>\"C:thylakoid lumen\"}, {\"GO:0004332\"=>\"F:fructose-bisphosphate aldolase activity\"}, {\"GO:0030388\"=>\"P:fructose 1\"}, {\"GO:0006094\"=>\"P:gluconeogenesis\"}, {\"GO:0006096\"=>\"P:glycolytic process\"}, {\"GO:0004332\"=>\"F:fructose-bisphosphate aldolase activity\"}, {\"GO:0006096\"=>\"P:glycolytic process\"}, {\"GO:0004332\"=>\"F:fructose-bisphosphate aldolase activity\"}, {\"GO:0006096\"=>\"P:glycolytic process\"}, {\"GO:0004332\"=>\"F:fructose-bisphosphate aldolase activity\"}, {\"GO:0006096\"=>\"P:glycolytic process\"}, {\"GO:0004332\"=>\"F:fructose-bisphosphate aldolase activity\"}, {\"GO:0006096\"=>\"P:glycolytic process\"}, {\"GO:0016021\"=>\"C:integral component of membrane\"}, {\"GO:0005886\"=>\"C:plasma membrane\"}, {\"GO:0016760\"=>\"F:cellulose synthase (UDP-forming) activity\"}, {\"GO:0046872\"=>\"F:metal ion binding\"}, {\"GO:0071555\"=>\"P:cell wall organization\"}, {\"GO:0030244\"=>\"P:cellulose biosynthetic process\"}, {\"GO:0004332\"=>\"F:fructose-bisphosphate aldolase activity\"}, {\"GO:0006096\"=>\"P:glycolytic process\"}]"
      ]
     },
     "execution_count": 66,
     "metadata": {},
     "output_type": "execute_result"
    }
   ],
   "source": [
    "go_terms.each do |go|\n",
    "  puts go\n",
    "  puts \"\"\n",
    "end"
   ]
  },
  {
   "cell_type": "markdown",
   "id": "79b7ce97",
   "metadata": {},
   "source": [
    "# KEGG"
   ]
  },
  {
   "cell_type": "code",
   "execution_count": 97,
   "id": "734f3c47",
   "metadata": {
    "scrolled": true
   },
   "outputs": [
    {
     "data": {
      "text/plain": [
       "[\"ath:AT2G21330\", \"ath:AT2G21330\"]"
      ]
     },
     "execution_count": 97,
     "metadata": {},
     "output_type": "execute_result"
    }
   ],
   "source": [
    "gene_id=\"AT2g21330\"\n",
    "\n",
    "address =\"http://togows.org/entry/uniprot/#{gene_id}/dr.json\"\n",
    "response = RestClient::Request.execute(  #  or you can use the 'fetch' function we created last class\n",
    "  method: :get,\n",
    "  url: address)  \n",
    "kegg_list=[]\n",
    "kegg_terms=[]\n",
    "JSON.parse(response.body)[0]['KEGG'].each do |kegg|\n",
    "  kegg_list << kegg[0]\n",
    "end\n",
    "\n",
    "pathways=[]\n",
    "kegg_list.each do |id|\n",
    "  address =\"http://togows.org/entry/kegg-genes/#{id}.json\"\n",
    "  response = RestClient::Request.execute(  #  or you can use the 'fetch' function we created last class \n",
    "  method: :get, url: address)  \n",
    "   JSON.parse(response.body)[0]['pathways'].each do |path|\n",
    "     pathways << {path[0] => path[1]}\n",
    "   end\n",
    "end"
   ]
  },
  {
   "cell_type": "markdown",
   "id": "7909e139",
   "metadata": {},
   "source": [
    "# Si vacio  espotque no hay nada pero funka. El primer each te devuelve dos numeros y busco los pathways para esos dos numeros (los dos que sale como parse), no obstante he considerado guardar esas pathways juntas porque son del mismo gen"
   ]
  },
  {
   "cell_type": "code",
   "execution_count": 98,
   "id": "c835d8dd",
   "metadata": {},
   "outputs": [
    {
     "name": "stdout",
     "output_type": "stream",
     "text": [
      "{\"ath00010\"=>\"Glycolysis / Gluconeogenesis\"}\n",
      "{\"ath00030\"=>\"Pentose phosphate pathway\"}\n",
      "{\"ath00051\"=>\"Fructose and mannose metabolism\"}\n",
      "{\"ath00710\"=>\"Carbon fixation in photosynthetic organisms\"}\n",
      "{\"ath01100\"=>\"Metabolic pathways\"}\n",
      "{\"ath01110\"=>\"Biosynthesis of secondary metabolites\"}\n",
      "{\"ath01200\"=>\"Carbon metabolism\"}\n",
      "{\"ath01230\"=>\"Biosynthesis of amino acids\"}\n",
      "{\"ath00010\"=>\"Glycolysis / Gluconeogenesis\"}\n",
      "{\"ath00030\"=>\"Pentose phosphate pathway\"}\n",
      "{\"ath00051\"=>\"Fructose and mannose metabolism\"}\n",
      "{\"ath00710\"=>\"Carbon fixation in photosynthetic organisms\"}\n",
      "{\"ath01100\"=>\"Metabolic pathways\"}\n",
      "{\"ath01110\"=>\"Biosynthesis of secondary metabolites\"}\n",
      "{\"ath01200\"=>\"Carbon metabolism\"}\n",
      "{\"ath01230\"=>\"Biosynthesis of amino acids\"}\n"
     ]
    }
   ],
   "source": [
    "puts pathways"
   ]
  }
 ],
 "metadata": {
  "kernelspec": {
   "display_name": "Ruby 3.0.0",
   "language": "ruby",
   "name": "ruby"
  },
  "language_info": {
   "file_extension": ".rb",
   "mimetype": "application/x-ruby",
   "name": "ruby",
   "version": "3.0.0"
  }
 },
 "nbformat": 4,
 "nbformat_minor": 5
}
