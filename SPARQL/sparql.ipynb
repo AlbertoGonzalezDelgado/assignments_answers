{
 "cells": [
  {
   "cell_type": "code",
   "execution_count": 1,
   "metadata": {},
   "outputs": [
    {
     "name": "stderr",
     "output_type": "stream",
     "text": [
      "UsageError: Cell magic `%%SPARQL` not found.\n"
     ]
    }
   ],
   "source": [
    "%%SPARQL\n",
    "# Q1: How many protein records are in UniProt?\n",
    "\n",
    "SELECT (COUNT(DISTINCT ?protein) AS ?count)\n",
    "WHERE {\n",
    "  ?protein a <http://purl.uniprot.org/core/Protein> .\n",
    "}"
   ]
  },
  {
   "cell_type": "code",
   "execution_count": null,
   "metadata": {},
   "outputs": [],
   "source": [
    "%%SPARQL\n",
    "# Q2: How many Arabidopsis thaliana protein records are in UniProt?\n",
    "\n",
    "SELECT (COUNT(DISTINCT ?protein) AS ?count)\n",
    "WHERE {\n",
    "  ?protein a <http://purl.uniprot.org/core/Protein> ;\n",
    "           <http://purl.uniprot.org/core/organism> <http://purl.uniprot.org/taxonomy/3702> .\n",
    "}"
   ]
  },
  {
   "cell_type": "code",
   "execution_count": null,
   "metadata": {},
   "outputs": [],
   "source": [
    "%%SPARQL\n",
    "# Q3: Retrieve pictures of Arabidopsis thaliana from UniProt\n",
    "\n",
    "SELECT DISTINCT ?image\n",
    "WHERE {\n",
    "  ?protein a <http://purl.uniprot.org/core/Protein> ;\n",
    "           <http://purl.uniprot.org/core/organism> <http://purl.uniprot.org/taxonomy/3702> ;\n",
    "           <http://purl.uniprot.org/core/encodedBy> ?gene ;\n",
    "           <http://purl.uniprot.org/core/product> ?product .\n",
    "  ?gene <http://purl.uniprot.org/core/geneName> ?name .\n",
    "  ?product <http://purl.uniprot.org/core/comment> ?comment .\n",
    "  ?comment <http://purl.uniprot.org/core/type> \"FUNCTION\" .\n",
    "  ?protein <http://purl.uniprot.org/core/image> ?image .\n",
    "}"
   ]
  },
  {
   "cell_type": "code",
   "execution_count": null,
   "metadata": {},
   "outputs": [],
   "source": [
    "%%SPARQL\n",
    "# Q4: What is the description of the enzyme activity of UniProt Protein Q9SZZ8\n",
    "\n",
    "SELECT ?activity\n",
    "WHERE {\n",
    "  <http://purl.uniprot.org/uniprot/Q9SZZ8> <http://purl.uniprot.org/core/catalyticActivity> ?activity .\n",
    "}\n"
   ]
  },
  {
   "cell_type": "code",
   "execution_count": null,
   "metadata": {},
   "outputs": [],
   "source": [
    "%%SPARQL\n",
    "# Q5: Retrieve the proteins ids, and date of submission, for 5 proteins that have been added to UniProt this year\n",
    "\n",
    "SELECT DISTINCT ?protein ?date\n",
    "WHERE {\n",
    "  ?protein a <http://purl.uniprot.org/core/Protein> .\n",
    "  ?protein <http://purl.uniprot.org/core/created> ?date .\n",
    "  FILTER(YEAR(?date) = 2021)\n",
    "}\n",
    "LIMIT 5\n"
   ]
  },
  {
   "cell_type": "code",
   "execution_count": null,
   "metadata": {},
   "outputs": [],
   "source": [
    "%%SPARQL\n",
    "# Q6: How many species are in the UniProt taxonomy?\n",
    "\n",
    "SELECT (COUNT(DISTINCT ?species) AS ?count)\n",
    "WHERE {\n",
    "  ?species a <http://purl.uniprot.org/core/Taxon> .\n",
    "}\n"
   ]
  },
  {
   "cell_type": "code",
   "execution_count": null,
   "metadata": {},
   "outputs": [],
   "source": [
    "%%SPARQL\n",
    "# Q7: How many species have at least one protein record?\n",
    "\n",
    "SELECT (COUNT(DISTINCT ?species) AS ?count)\n",
    "WHERE {\n",
    "  ?protein a <http://purl.uniprot.org/core/Protein> .\n",
    "  ?protein <http://purl.uniprot.org/core/organism> ?species .\n",
    "}\n"
   ]
  },
  {
   "cell_type": "code",
   "execution_count": null,
   "metadata": {},
   "outputs": [],
   "source": [
    "%%SPARQL\n",
    "\n",
    "# Q8: Find the AGI codes and gene names for all Arabidopsis thaliana proteins that have a protein function annotation description that mentions \"pattern formation\"\n",
    "\n",
    "SELECT DISTINCT ?protein ?agi ?gene\n",
    "WHERE {\n",
    "  ?protein a <http://purl.uniprot.org/core/Protein> ;\n",
    "           <http://purl.uniprot.org/core/organism> <http://purl.uniprot.org/taxonomy/3702> ;\n",
    "           <http://purl.uniprot.org/core/encodedBy> ?gene .\n",
    "  ?gene <http://purl.uniprot.org/core/geneName> ?name .\n",
    "  ?gene <http://purl.uniprot.org/core/crossReference> ?xref .\n",
    "  ?xref <http://purl.uniprot.org/core/database> <http://purl.uniprot.org/core/AGI> .\n",
    "  ?xref <http://purl.uniprot.org/core/identifier> ?agi .\n",
    "  ?protein <http://purl.uniprot.org/core/function> ?function .\n",
    "  ?function <http://purl.uniprot.org/core/text> ?text .\n",
    "  FILTER(CONTAINS(?text, \"pattern formation\"))\n",
    "}\n"
   ]
  },
  {
   "cell_type": "code",
   "execution_count": null,
   "metadata": {},
   "outputs": [],
   "source": [
    "# Q9: What is the MetaNetX Reaction identifier (starts with \"mnxr\") for the UniProt Protein uniprotkb:Q18A79\n",
    "\n",
    "SELECT ?mnxr\n",
    "WHERE {\n",
    "  <http://purl.uniprot.org/uniprot/Q18A79> <http://purl.uniprot.org/core/encodedBy> ?gene .\n",
    "  ?gene <http://purl.uniprot.org/core/crossReference> ?xref .\n",
    "  ?xref <http://purl.uniprot.org/core/database> <http://identifiers.org/ec-code> .\n",
    "  ?xref <http://purl.uniprot.org/core/identifier> ?ec .\n",
    "  ?metabolite <http://purl.metanetx.org/mnxm/EC> ?ec .\n",
    "  ?metabolite <http://purl.metanetx.org/mnxm/reaction> ?mnxr .\n",
    "}"
   ]
  },
  {
   "cell_type": "code",
   "execution_count": null,
   "metadata": {},
   "outputs": [],
   "source": [
    "# Q9: What is the MetaNetX Reaction identifier (starts with \"mnxr\") for the UniProt Protein uniprotkb:Q18A79\n",
    "\n",
    "SELECT ?mnxr\n",
    "WHERE {\n",
    "  <http://purl.uniprot.org/uniprot/Q18A79> <http://purl.uniprot.org/core/encodedBy> ?gene .\n",
    "  ?gene <http://purl.uniprot.org/core/crossReference> ?xref .\n",
    "  ?xref <http://purl.uniprot.org/core/database> <http://identifiers.org/ec-code> .\n",
    "  ?xref <http://purl.uniprot.org/core/identifier> ?ec .\n",
    "  ?metabolite <http://purl.metanetx.org/mnxm/EC> ?ec .\n",
    "  ?metabolite <http://purl.metanetx.org/mnxm/reaction> ?mnxr .\n",
    "}"
   ]
  },
  {
   "cell_type": "code",
   "execution_count": null,
   "metadata": {},
   "outputs": [],
   "source": [
    "Copy code\n",
    "# Q10: What is the official locus name, and the MetaNetX Reaction identifier (mnxr…) for the protein that has \"glycine reductase\" catalytic activity in Clostridium difficile (taxon 272563). (this must be executed on the https://rdf.metanetx.org/sparql endpoint)\n",
    "\n",
    "SELECT DISTINCT ?locus ?mnxr\n",
    "WHERE {\n",
    "  ?protein a <http://purl.uniprot.org/core/Protein> ;\n",
    "           <http://purl.uniprot.org/core/organism> <http://purl.uniprot.org/taxonomy/272563> ;\n",
    "           <http://purl.uniprot.org/core/catalyticActivity> ?activity .\n",
    "  ?activity <http://purl.uniprot.org/core/text> \"Catalyzes the reduction of glycine to formaldehyde and ammonia.\"@en .\n",
    "  ?protein <http://purl.uniprot.org/core/encodedBy> ?gene .\n",
    "  ?gene <http://purl.uniprot.org/core/locusName> ?locus .\n",
    "  ?gene <http://purl.uniprot.org/core/crossReference> ?xref .\n",
    "  ?xref <http://purl.uniprot.org/core/database> <http://identifiers.org/ec-code> .\n",
    "  ?xref <http://purl.uniprot.org/core/identifier> ?ec .\n",
    "  ?metabolite <http://purl.metanetx.org/mnxm/EC> ?ec .\n",
    "  ?metabolite <http://purl.metanetx.org/mnxm/reaction> ?mnxr .\n",
    "}\n",
    "The results of this query will depend on the data in the UniProt and MetaNetX databases and may vary over time.\n",
    "\n",
    "\n",
    "\n",
    "\n",
    "Alberto Glez\n",
    "does it works nowadays? (21/12/2022)\n",
    "I'm\n",
    "\n",
    "\n"
   ]
  }
 ],
 "metadata": {
  "kernelspec": {
   "display_name": "base",
   "language": "python",
   "name": "python3"
  },
  "language_info": {
   "codemirror_mode": {
    "name": "ipython",
    "version": 3
   },
   "file_extension": ".py",
   "mimetype": "text/x-python",
   "name": "python",
   "nbconvert_exporter": "python",
   "pygments_lexer": "ipython3",
   "version": "3.8.8 (default, Apr 13 2021, 15:08:03) [MSC v.1916 64 bit (AMD64)]"
  },
  "orig_nbformat": 4,
  "vscode": {
   "interpreter": {
    "hash": "ad2bdc8ecc057115af97d19610ffacc2b4e99fae6737bb82f5d7fb13d2f2c186"
   }
  }
 },
 "nbformat": 4,
 "nbformat_minor": 2
}
