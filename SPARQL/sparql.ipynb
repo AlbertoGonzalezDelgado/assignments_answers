{
 "cells": [
  {
   "cell_type": "code",
   "execution_count": 1,
   "metadata": {},
   "outputs": [
    {
     "name": "stderr",
     "output_type": "stream",
     "text": [
      "UsageError: Cell magic `%%SPARQL` not found.\n"
     ]
    }
   ],
   "source": [
    "%%SPARQL\n",
    "# Q1: How many protein records are in UniProt?\n",
    "\n",
    "SELECT (COUNT(DISTINCT ?protein) AS ?count)\n",
    "WHERE {\n",
    "  ?protein a <http://purl.uniprot.org/core/Protein> .\n",
    "}"
   ]
  },
  {
   "cell_type": "code",
   "execution_count": null,
   "metadata": {},
   "outputs": [],
   "source": [
    "%%SPARQL\n",
    "# Q2: How many Arabidopsis thaliana protein records are in UniProt?\n",
    "\n",
    "SELECT (COUNT(DISTINCT ?protein) AS ?count)\n",
    "WHERE {\n",
    "  ?protein a <http://purl.uniprot.org/core/Protein> ;\n",
    "           <http://purl.uniprot.org/core/organism> <http://purl.uniprot.org/taxonomy/3702> .\n",
    "}"
   ]
  },
  {
   "cell_type": "code",
   "execution_count": null,
   "metadata": {},
   "outputs": [],
   "source": [
    "%%SPARQL\n",
    "# Q3: Retrieve pictures of Arabidopsis thaliana from UniProt\n",
    "\n",
    "SELECT DISTINCT ?image\n",
    "WHERE {\n",
    "  ?protein a <http://purl.uniprot.org/core/Protein> ;\n",
    "           <http://purl.uniprot.org/core/organism> <http://purl.uniprot.org/taxonomy/3702> ;\n",
    "           <http://purl.uniprot.org/core/encodedBy> ?gene ;\n",
    "           <http://purl.uniprot.org/core/product> ?product .\n",
    "  ?gene <http://purl.uniprot.org/core/geneName> ?name .\n",
    "  ?product <http://purl.uniprot.org/core/comment> ?comment .\n",
    "  ?comment <http://purl.uniprot.org/core/type> \"FUNCTION\" .\n",
    "  ?protein <http://purl.uniprot.org/core/image> ?image .\n",
    "}"
   ]
  },
  {
   "cell_type": "code",
   "execution_count": null,
   "metadata": {},
   "outputs": [],
   "source": []
  }
 ],
 "metadata": {
  "kernelspec": {
   "display_name": "base",
   "language": "python",
   "name": "python3"
  },
  "language_info": {
   "codemirror_mode": {
    "name": "ipython",
    "version": 3
   },
   "file_extension": ".py",
   "mimetype": "text/x-python",
   "name": "python",
   "nbconvert_exporter": "python",
   "pygments_lexer": "ipython3",
   "version": "3.8.8"
  },
  "orig_nbformat": 4,
  "vscode": {
   "interpreter": {
    "hash": "ad2bdc8ecc057115af97d19610ffacc2b4e99fae6737bb82f5d7fb13d2f2c186"
   }
  }
 },
 "nbformat": 4,
 "nbformat_minor": 2
}
